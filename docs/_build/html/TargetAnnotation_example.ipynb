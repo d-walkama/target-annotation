{
 "cells": [
  {
   "cell_type": "markdown",
   "id": "9078af33",
   "metadata": {},
   "source": [
    "# Target Annotation Example"
   ]
  },
  {
   "cell_type": "code",
   "execution_count": 9,
   "id": "f73efca3-a726-459a-8789-88c41ed2203f",
   "metadata": {
    "tags": []
   },
   "outputs": [],
   "source": [
    "import pandas as pd\n",
    "import re\n",
    "from tqdm import tqdm\n",
    "import os\n",
    "\n",
    "from target_annotation import TargetAnnotation\n",
    "from target_annotation.utils.util import get_ensembl_from_uniprot"
   ]
  },
  {
   "cell_type": "markdown",
   "id": "62fce683-0713-4357-9bb4-c8e777210ca3",
   "metadata": {},
   "source": [
    "## Get list of targets"
   ]
  },
  {
   "cell_type": "code",
   "execution_count": 10,
   "id": "ebf920ad-dc3c-4890-a109-e14b4e93aebe",
   "metadata": {
    "tags": []
   },
   "outputs": [],
   "source": [
    "results_path = \"~/results\"\n",
    "\n",
    "targets = [\"P05067\", \"ENSG00000130203\"]  # uniprot id and an ensemble id for two targets\n",
    "\n",
    "targets = [\n",
    "    get_ensembl_from_uniprot(x) if not re.match(\"ENSG.*\", x) else x\n",
    "    for x in targets\n",
    "]"
   ]
  },
  {
   "cell_type": "markdown",
   "id": "5872d7c6-78a9-4ac1-a3dd-ab58c9385b08",
   "metadata": {},
   "source": [
    "## Create and Run the Workflow"
   ]
  },
  {
   "cell_type": "code",
   "execution_count": 11,
   "id": "c3ce25c7-a783-48f0-aa5f-4b6feac38c21",
   "metadata": {
    "tags": []
   },
   "outputs": [
    {
     "name": "stderr",
     "output_type": "stream",
     "text": [
      "OT: target annotation...: 100%|██████████| 2/2 [00:00<00:00,  8.15it/s]\n",
      "OT: disease annotation...: 100%|██████████| 2/2 [00:00<00:00,  2.63it/s]\n",
      "Pharos: target annotation...: 100%|██████████| 2/2 [00:00<00:00,  7.70it/s]\n"
     ]
    }
   ],
   "source": [
    "pipe = TargetAnnotation(\n",
    "    targets=targets,\n",
    "    disease_code=\"MONDO_0004975\",\n",
    "    results_path = results_path\n",
    ")\n",
    "\n",
    "res = pipe.run()"
   ]
  },
  {
   "cell_type": "markdown",
   "id": "67b8622e-112b-4cad-acd2-d2539cce6745",
   "metadata": {},
   "source": [
    "## Annotation results"
   ]
  },
  {
   "cell_type": "code",
   "execution_count": 12,
   "id": "88ec2fef",
   "metadata": {},
   "outputs": [
    {
     "data": {
      "text/plain": [
       "dict_keys(['ENSG00000142192', 'ENSG00000130203'])"
      ]
     },
     "execution_count": 12,
     "metadata": {},
     "output_type": "execute_result"
    }
   ],
   "source": [
    "res.keys()"
   ]
  },
  {
   "cell_type": "code",
   "execution_count": 13,
   "id": "aa0125b4-4dd9-426e-8353-3afee820eb79",
   "metadata": {
    "tags": []
   },
   "outputs": [
    {
     "data": {
      "text/plain": [
       "dict_keys(['OpenTargets', 'OpenTargets_disease_evidence', 'Pharos'])"
      ]
     },
     "execution_count": 13,
     "metadata": {},
     "output_type": "execute_result"
    }
   ],
   "source": [
    "res[\"ENSG00000130203\"].keys()"
   ]
  },
  {
   "cell_type": "markdown",
   "id": "efc52610-377a-412a-9ec0-5ed7b2bc5837",
   "metadata": {},
   "source": [
    "### Fields retrieved from OpenTargets for each target"
   ]
  },
  {
   "cell_type": "code",
   "execution_count": 14,
   "id": "535c474f-b553-4aba-afcd-174895c27ccc",
   "metadata": {
    "tags": []
   },
   "outputs": [
    {
     "data": {
      "text/plain": [
       "dict_keys(['id', 'approvedSymbol', 'biotype', 'proteinIds', 'geneOntology', 'targetClass', 'functionDescriptions', 'tractability', 'geneticConstraint', 'pathways', 'expressions', 'associatedDiseases', 'isEssential', 'depMapEssentiality', 'chemicalProbes', 'knownDrugs', 'safetyLiabilities'])"
      ]
     },
     "execution_count": 14,
     "metadata": {},
     "output_type": "execute_result"
    }
   ],
   "source": [
    "res[\"ENSG00000130203\"][\"OpenTargets\"].keys()"
   ]
  },
  {
   "cell_type": "markdown",
   "id": "c627857f",
   "metadata": {},
   "source": [
    "### Examples of the OT fields"
   ]
  },
  {
   "cell_type": "code",
   "execution_count": 15,
   "id": "5dc1d8d7",
   "metadata": {},
   "outputs": [
    {
     "data": {
      "text/plain": [
       "['APOE is an apolipoprotein, a protein associating with lipid particles, that mainly functions in lipoprotein-mediated lipid transport between organs via the plasma and interstitial fluids (PubMed:6860692, PubMed:1911868, PubMed:14754908). APOE is a core component of plasma lipoproteins and is involved in their production, conversion and clearance (PubMed:6860692, PubMed:2762297, PubMed:1911868, PubMed:1917954, PubMed:9395455, PubMed:14754908, PubMed:23620513). Apolipoproteins are amphipathic molecules that interact both with lipids of the lipoprotein particle core and the aqueous environment of the plasma (PubMed:6860692, PubMed:2762297, PubMed:9395455). As such, APOE associates with chylomicrons, chylomicron remnants, very low density lipoproteins (VLDL) and intermediate density lipoproteins (IDL) but shows a preferential binding to high-density lipoproteins (HDL) (PubMed:6860692, PubMed:1911868). It also binds a wide range of cellular receptors including the LDL receptor/LDLR, the LDL receptor-related proteins LRP1, LRP2 and LRP8 and the very low-density lipoprotein receptor/VLDLR that mediate the cellular uptake of the APOE-containing lipoprotein particles (PubMed:2762297, PubMed:1917954, PubMed:7768901, PubMed:8939961, PubMed:12950167, PubMed:20030366, PubMed:2063194, PubMed:8756331, PubMed:20303980, PubMed:1530612, PubMed:7635945). Finally, APOE has also a heparin-binding activity and binds heparan- sulfate proteoglycans on the surface of cells, a property that supports the capture and the receptor-mediated uptake of APOE-containing lipoproteins by cells (PubMed:9395455, PubMed:9488694, PubMed:23676495, PubMed:7635945). A main function of APOE is to mediate lipoprotein clearance through the uptake of chylomicrons, VLDLs, and HDLs by hepatocytes (PubMed:1911868, PubMed:1917954, PubMed:9395455, PubMed:23676495, PubMed:29516132). APOE is also involved in the biosynthesis by the liver of VLDLs as well as their uptake by peripheral tissues ensuring the delivery of triglycerides and energy storage in muscle, heart and adipose tissues (PubMed:2762297, PubMed:29516132). By participating in the lipoprotein-mediated distribution of lipids among tissues, APOE plays a critical role in plasma and tissues lipid homeostasis (PubMed:2762297, PubMed:1917954, PubMed:29516132). APOE is also involved in two steps of reverse cholesterol transport, the HDLs-mediated transport of cholesterol from peripheral tissues to the liver, and thereby plays an important role in cholesterol homeostasis (PubMed:9395455, PubMed:14754908, PubMed:23620513). First, it is functionally associated with ABCA1 in the biogenesis of HDLs in tissues (PubMed:14754908, PubMed:23620513). Second, it is enriched in circulating HDLs and mediates their uptake by hepatocytes (PubMed:9395455). APOE also plays an important role in lipid transport in the central nervous system, regulating neuron survival and sprouting (PubMed:8939961, PubMed:25173806). APOE is also involved in innate and adaptive immune responses, controlling for instance the survival of myeloid-derived suppressor cells (By similarity). Binds to the immune cell receptor LILRB4 (PubMed:30333625). APOE may also play a role in transcription regulation through a receptor-dependent and cholesterol-independent mechanism, that activates MAP3K12 and a non-canonical MAPK signal transduction pathway that results in enhanced AP-1-mediated transcription of APP (PubMed:28111074). {ECO:0000250|UniProtKB:P08226, ECO:0000269|PubMed:12950167, ECO:0000269|PubMed:14754908, ECO:0000269|PubMed:1530612, ECO:0000269|PubMed:1911868, ECO:0000269|PubMed:1917954, ECO:0000269|PubMed:20030366, ECO:0000269|PubMed:20303980, ECO:0000269|PubMed:2063194, ECO:0000269|PubMed:23620513, ECO:0000269|PubMed:23676495, ECO:0000269|PubMed:2762297, ECO:0000269|PubMed:28111074, ECO:0000269|PubMed:30333625, ECO:0000269|PubMed:6860692, ECO:0000269|PubMed:7635945, ECO:0000269|PubMed:7768901, ECO:0000269|PubMed:8756331, ECO:0000269|PubMed:8939961, ECO:0000269|PubMed:9395455, ECO:0000269|PubMed:9488694, ECO:0000303|PubMed:25173806, ECO:0000303|PubMed:29516132}.',\n",
       " '(Microbial infection) Through its interaction with HCV envelope glycoprotein E2, participates in the attachment of HCV to HSPGs and other receptors (LDLr, VLDLr, and SR-B1) on the cell surface and to the assembly, maturation and infectivity of HCV viral particles (PubMed:25122793, PubMed:29695434). This interaction is probably promoted via the up-regulation of cellular autophagy by the virus (PubMed:29695434). {ECO:0000269|PubMed:25122793, ECO:0000269|PubMed:29695434}.']"
      ]
     },
     "execution_count": 15,
     "metadata": {},
     "output_type": "execute_result"
    }
   ],
   "source": [
    "res[\"ENSG00000130203\"][\"OpenTargets\"][\"functionDescriptions\"]"
   ]
  },
  {
   "cell_type": "code",
   "execution_count": 16,
   "id": "2fbb7a38",
   "metadata": {},
   "outputs": [
    {
     "data": {
      "text/plain": [
       "[{'id': 'GO:0005576', 'name': 'extracellular region'},\n",
       " {'id': 'GO:0048156', 'name': 'tau protein binding'},\n",
       " {'id': 'GO:0070328', 'name': 'triglyceride homeostasis'},\n",
       " {'id': 'GO:1902430', 'name': 'negative regulation of amyloid-beta formation'},\n",
       " {'id': 'GO:0034364', 'name': 'high-density lipoprotein particle'},\n",
       " {'id': 'GO:0043083', 'name': 'synaptic cleft'},\n",
       " {'id': 'GO:0008203', 'name': 'cholesterol metabolic process'},\n",
       " {'id': 'GO:0005576', 'name': 'extracellular region'},\n",
       " {'id': 'GO:0042627', 'name': 'chylomicron'},\n",
       " {'id': 'GO:0061771', 'name': 'response to caloric restriction'},\n",
       " {'id': 'GO:0000302', 'name': 'response to reactive oxygen species'},\n",
       " {'id': 'GO:0034447',\n",
       "  'name': 'very-low-density lipoprotein particle clearance'},\n",
       " {'id': 'GO:0034363', 'name': 'intermediate-density lipoprotein particle'},\n",
       " {'id': 'GO:0034361', 'name': 'very-low-density lipoprotein particle'},\n",
       " {'id': 'GO:0034360', 'name': 'chylomicron remnant'},\n",
       " {'id': 'GO:0008201', 'name': 'heparin binding'},\n",
       " {'id': 'GO:0005515', 'name': 'protein binding'},\n",
       " {'id': 'GO:0001540', 'name': 'amyloid-beta binding'},\n",
       " {'id': 'GO:0005102', 'name': 'signaling receptor binding'},\n",
       " {'id': 'GO:0042803', 'name': 'protein homodimerization activity'},\n",
       " {'id': 'GO:0005737', 'name': 'cytoplasm'},\n",
       " {'id': 'GO:0005615', 'name': 'extracellular space'},\n",
       " {'id': 'GO:0034380', 'name': 'high-density lipoprotein particle assembly'},\n",
       " {'id': 'GO:0007186', 'name': 'G protein-coupled receptor signaling pathway'},\n",
       " {'id': 'GO:0071831',\n",
       "  'name': 'intermediate-density lipoprotein particle clearance'},\n",
       " {'id': 'GO:0043083', 'name': 'synaptic cleft'},\n",
       " {'id': 'GO:0005515', 'name': 'protein binding'},\n",
       " {'id': 'GO:0005515', 'name': 'protein binding'},\n",
       " {'id': 'GO:0010875', 'name': 'positive regulation of cholesterol efflux'},\n",
       " {'id': 'GO:0033700', 'name': 'phospholipid efflux'},\n",
       " {'id': 'GO:0042470', 'name': 'melanosome'},\n",
       " {'id': 'GO:0005515', 'name': 'protein binding'},\n",
       " {'id': 'GO:0042803', 'name': 'protein homodimerization activity'},\n",
       " {'id': 'GO:0055089', 'name': 'fatty acid homeostasis'},\n",
       " {'id': 'GO:1905907',\n",
       "  'name': 'negative regulation of amyloid fibril formation'},\n",
       " {'id': 'GO:1900223', 'name': 'positive regulation of amyloid-beta clearance'},\n",
       " {'id': 'GO:0044877', 'name': 'protein-containing complex binding'},\n",
       " {'id': 'GO:0010976',\n",
       "  'name': 'positive regulation of neuron projection development'},\n",
       " {'id': 'GO:0032438', 'name': 'melanosome organization'},\n",
       " {'id': 'GO:0005515', 'name': 'protein binding'},\n",
       " {'id': 'GO:0070374', 'name': 'positive regulation of ERK1 and ERK2 cascade'},\n",
       " {'id': 'GO:1900272',\n",
       "  'name': 'negative regulation of long-term synaptic potentiation'},\n",
       " {'id': 'GO:0034362', 'name': 'low-density lipoprotein particle'},\n",
       " {'id': 'GO:0005576', 'name': 'extracellular region'},\n",
       " {'id': 'GO:0043083', 'name': 'synaptic cleft'},\n",
       " {'id': 'GO:0050750',\n",
       "  'name': 'low-density lipoprotein particle receptor binding'},\n",
       " {'id': 'GO:0006874', 'name': 'intracellular calcium ion homeostasis'},\n",
       " {'id': 'GO:0010629', 'name': 'negative regulation of gene expression'},\n",
       " {'id': 'GO:0061136',\n",
       "  'name': 'regulation of proteasomal protein catabolic process'},\n",
       " {'id': 'GO:1905890',\n",
       "  'name': 'regulation of cellular response to very-low-density lipoprotein particle stimulus'},\n",
       " {'id': 'GO:0001540', 'name': 'amyloid-beta binding'},\n",
       " {'id': 'GO:0034365', 'name': 'discoidal high-density lipoprotein particle'},\n",
       " {'id': 'GO:0045088', 'name': 'regulation of innate immune response'},\n",
       " {'id': 'GO:0017038', 'name': 'protein import'},\n",
       " {'id': 'GO:0051000',\n",
       "  'name': 'positive regulation of nitric-oxide synthase activity'},\n",
       " {'id': 'GO:0090090',\n",
       "  'name': 'negative regulation of canonical Wnt signaling pathway'},\n",
       " {'id': 'GO:0097113', 'name': 'AMPA glutamate receptor clustering'},\n",
       " {'id': 'GO:0051044',\n",
       "  'name': 'positive regulation of membrane protein ectodomain proteolysis'},\n",
       " {'id': 'GO:0005515', 'name': 'protein binding'},\n",
       " {'id': 'GO:0005615', 'name': 'extracellular space'},\n",
       " {'id': 'GO:0051044',\n",
       "  'name': 'positive regulation of membrane protein ectodomain proteolysis'},\n",
       " {'id': 'GO:0046889',\n",
       "  'name': 'positive regulation of lipid biosynthetic process'},\n",
       " {'id': 'GO:0042632', 'name': 'cholesterol homeostasis'},\n",
       " {'id': 'GO:0030425', 'name': 'dendrite'},\n",
       " {'id': 'GO:0005769', 'name': 'early endosome'},\n",
       " {'id': 'GO:0010877', 'name': 'lipid transport involved in lipid storage'},\n",
       " {'id': 'GO:0031175', 'name': 'neuron projection development'},\n",
       " {'id': 'GO:0090090',\n",
       "  'name': 'negative regulation of canonical Wnt signaling pathway'},\n",
       " {'id': 'GO:0005886', 'name': 'plasma membrane'},\n",
       " {'id': 'GO:0071813', 'name': 'lipoprotein particle binding'},\n",
       " {'id': 'GO:0071830',\n",
       "  'name': 'triglyceride-rich lipoprotein particle clearance'},\n",
       " {'id': 'GO:0051246', 'name': 'regulation of protein metabolic process'},\n",
       " {'id': 'GO:0005783', 'name': 'endoplasmic reticulum'},\n",
       " {'id': 'GO:0005515', 'name': 'protein binding'},\n",
       " {'id': 'GO:0005515', 'name': 'protein binding'},\n",
       " {'id': 'GO:0045541',\n",
       "  'name': 'negative regulation of cholesterol biosynthetic process'},\n",
       " {'id': 'GO:0098869', 'name': 'cellular oxidant detoxification'},\n",
       " {'id': 'GO:0043524',\n",
       "  'name': 'negative regulation of neuron apoptotic process'},\n",
       " {'id': 'GO:0034362', 'name': 'low-density lipoprotein particle'},\n",
       " {'id': 'GO:0045807', 'name': 'positive regulation of endocytosis'},\n",
       " {'id': 'GO:0005576', 'name': 'extracellular region'},\n",
       " {'id': 'GO:0030195', 'name': 'negative regulation of blood coagulation'},\n",
       " {'id': 'GO:0005576', 'name': 'extracellular region'},\n",
       " {'id': 'GO:0005515', 'name': 'protein binding'},\n",
       " {'id': 'GO:0043395', 'name': 'heparan sulfate proteoglycan binding'},\n",
       " {'id': 'GO:0043083', 'name': 'synaptic cleft'},\n",
       " {'id': 'GO:0070062', 'name': 'extracellular exosome'},\n",
       " {'id': 'GO:0070062', 'name': 'extracellular exosome'},\n",
       " {'id': 'GO:0034361', 'name': 'very-low-density lipoprotein particle'},\n",
       " {'id': 'GO:0042803', 'name': 'protein homodimerization activity'},\n",
       " {'id': 'GO:0006707', 'name': 'cholesterol catabolic process'},\n",
       " {'id': 'GO:0032805',\n",
       "  'name': 'positive regulation of low-density lipoprotein particle receptor catabolic process'},\n",
       " {'id': 'GO:0034362', 'name': 'low-density lipoprotein particle'},\n",
       " {'id': 'GO:0034374', 'name': 'low-density lipoprotein particle remodeling'},\n",
       " {'id': 'GO:0050750',\n",
       "  'name': 'low-density lipoprotein particle receptor binding'},\n",
       " {'id': 'GO:0043395', 'name': 'heparan sulfate proteoglycan binding'},\n",
       " {'id': 'GO:0005615', 'name': 'extracellular space'},\n",
       " {'id': 'GO:0097114', 'name': 'NMDA glutamate receptor clustering'},\n",
       " {'id': 'GO:0005576', 'name': 'extracellular region'},\n",
       " {'id': 'GO:0034363', 'name': 'intermediate-density lipoprotein particle'},\n",
       " {'id': 'GO:0048662',\n",
       "  'name': 'negative regulation of smooth muscle cell proliferation'},\n",
       " {'id': 'GO:0005769', 'name': 'early endosome'},\n",
       " {'id': 'GO:0005515', 'name': 'protein binding'},\n",
       " {'id': 'GO:0042311', 'name': 'vasodilation'},\n",
       " {'id': 'GO:0098978', 'name': 'glutamatergic synapse'},\n",
       " {'id': 'GO:0034361', 'name': 'very-low-density lipoprotein particle'},\n",
       " {'id': 'GO:0034363', 'name': 'intermediate-density lipoprotein particle'},\n",
       " {'id': 'GO:0120020', 'name': 'cholesterol transfer activity'},\n",
       " {'id': 'GO:0070326',\n",
       "  'name': 'very-low-density lipoprotein particle receptor binding'},\n",
       " {'id': 'GO:0046907', 'name': 'intracellular transport'},\n",
       " {'id': 'GO:0042632', 'name': 'cholesterol homeostasis'},\n",
       " {'id': 'GO:0098978', 'name': 'glutamatergic synapse'},\n",
       " {'id': 'GO:0034361', 'name': 'very-low-density lipoprotein particle'},\n",
       " {'id': 'GO:0050750',\n",
       "  'name': 'low-density lipoprotein particle receptor binding'},\n",
       " {'id': 'GO:0090205',\n",
       "  'name': 'positive regulation of cholesterol metabolic process'},\n",
       " {'id': 'GO:0005515', 'name': 'protein binding'},\n",
       " {'id': 'GO:0006641', 'name': 'triglyceride metabolic process'},\n",
       " {'id': 'GO:0005576', 'name': 'extracellular region'},\n",
       " {'id': 'GO:0007271', 'name': 'synaptic transmission, cholinergic'},\n",
       " {'id': 'GO:0010977',\n",
       "  'name': 'negative regulation of neuron projection development'},\n",
       " {'id': 'GO:0046911', 'name': 'metal chelating activity'},\n",
       " {'id': 'GO:0010875', 'name': 'positive regulation of cholesterol efflux'},\n",
       " {'id': 'GO:0005576', 'name': 'extracellular region'},\n",
       " {'id': 'GO:0005788', 'name': 'endoplasmic reticulum lumen'},\n",
       " {'id': 'GO:0005737', 'name': 'cytoplasm'},\n",
       " {'id': 'GO:0034364', 'name': 'high-density lipoprotein particle'},\n",
       " {'id': 'GO:0005576', 'name': 'extracellular region'},\n",
       " {'id': 'GO:0034447',\n",
       "  'name': 'very-low-density lipoprotein particle clearance'},\n",
       " {'id': 'GO:0072562', 'name': 'blood microparticle'},\n",
       " {'id': 'GO:0034447',\n",
       "  'name': 'very-low-density lipoprotein particle clearance'},\n",
       " {'id': 'GO:0042159', 'name': 'lipoprotein catabolic process'},\n",
       " {'id': 'GO:1990777', 'name': 'lipoprotein particle'},\n",
       " {'id': 'GO:1905906', 'name': 'regulation of amyloid fibril formation'},\n",
       " {'id': 'GO:0062023', 'name': 'collagen-containing extracellular matrix'},\n",
       " {'id': 'GO:0005543', 'name': 'phospholipid binding'},\n",
       " {'id': 'GO:0070326',\n",
       "  'name': 'very-low-density lipoprotein particle receptor binding'},\n",
       " {'id': 'GO:0043025', 'name': 'neuronal cell body'},\n",
       " {'id': 'GO:0034382', 'name': 'chylomicron remnant clearance'},\n",
       " {'id': 'GO:0005576', 'name': 'extracellular region'},\n",
       " {'id': 'GO:0035641', 'name': 'locomotory exploration behavior'},\n",
       " {'id': 'GO:0033344', 'name': 'cholesterol efflux'},\n",
       " {'id': 'GO:0005515', 'name': 'protein binding'},\n",
       " {'id': 'GO:0034364', 'name': 'high-density lipoprotein particle'},\n",
       " {'id': 'GO:0001540', 'name': 'amyloid-beta binding'},\n",
       " {'id': 'GO:0098978', 'name': 'glutamatergic synapse'},\n",
       " {'id': 'GO:0005634', 'name': 'nucleus'},\n",
       " {'id': 'GO:0005319', 'name': 'lipid transporter activity'},\n",
       " {'id': 'GO:0044794', 'name': 'positive regulation by host of viral process'},\n",
       " {'id': 'GO:0010596',\n",
       "  'name': 'negative regulation of endothelial cell migration'},\n",
       " {'id': 'GO:0007010', 'name': 'cytoskeleton organization'},\n",
       " {'id': 'GO:0042802', 'name': 'identical protein binding'},\n",
       " {'id': 'GO:0005515', 'name': 'protein binding'},\n",
       " {'id': 'GO:0005515', 'name': 'protein binding'},\n",
       " {'id': 'GO:0010875', 'name': 'positive regulation of cholesterol efflux'},\n",
       " {'id': 'GO:0097487', 'name': 'multivesicular body, internal vesicle'},\n",
       " {'id': 'GO:0034363', 'name': 'intermediate-density lipoprotein particle'},\n",
       " {'id': 'GO:0001540', 'name': 'amyloid-beta binding'},\n",
       " {'id': 'GO:0005515', 'name': 'protein binding'},\n",
       " {'id': 'GO:0034447',\n",
       "  'name': 'very-low-density lipoprotein particle clearance'},\n",
       " {'id': 'GO:0034361', 'name': 'very-low-density lipoprotein particle'},\n",
       " {'id': 'GO:0120009', 'name': 'intermembrane lipid transfer'},\n",
       " {'id': 'GO:0033344', 'name': 'cholesterol efflux'},\n",
       " {'id': 'GO:0002021', 'name': 'response to dietary excess'},\n",
       " {'id': 'GO:0043537',\n",
       "  'name': 'negative regulation of blood vessel endothelial cell migration'},\n",
       " {'id': 'GO:0034384', 'name': 'high-density lipoprotein particle clearance'},\n",
       " {'id': 'GO:0045893',\n",
       "  'name': 'positive regulation of DNA-templated transcription'},\n",
       " {'id': 'GO:0042158', 'name': 'lipoprotein biosynthetic process'},\n",
       " {'id': 'GO:0005515', 'name': 'protein binding'},\n",
       " {'id': 'GO:0046983', 'name': 'protein dimerization activity'},\n",
       " {'id': 'GO:0008203', 'name': 'cholesterol metabolic process'},\n",
       " {'id': 'GO:1902991',\n",
       "  'name': 'regulation of amyloid precursor protein catabolic process'},\n",
       " {'id': 'GO:0042982', 'name': 'amyloid precursor protein metabolic process'},\n",
       " {'id': 'GO:0043407', 'name': 'negative regulation of MAP kinase activity'},\n",
       " {'id': 'GO:1905908',\n",
       "  'name': 'positive regulation of amyloid fibril formation'},\n",
       " {'id': 'GO:1903002',\n",
       "  'name': 'positive regulation of lipid transport across blood-brain barrier'},\n",
       " {'id': 'GO:0001937',\n",
       "  'name': 'negative regulation of endothelial cell proliferation'},\n",
       " {'id': 'GO:0048168', 'name': 'regulation of neuronal synaptic plasticity'},\n",
       " {'id': 'GO:0005576', 'name': 'extracellular region'},\n",
       " {'id': 'GO:0010976',\n",
       "  'name': 'positive regulation of neuron projection development'},\n",
       " {'id': 'GO:0005576', 'name': 'extracellular region'},\n",
       " {'id': 'GO:0042627', 'name': 'chylomicron'},\n",
       " {'id': 'GO:0006898', 'name': 'receptor-mediated endocytosis'},\n",
       " {'id': 'GO:0050728', 'name': 'negative regulation of inflammatory response'},\n",
       " {'id': 'GO:0005576', 'name': 'extracellular region'},\n",
       " {'id': 'GO:0045807', 'name': 'positive regulation of endocytosis'},\n",
       " {'id': 'GO:0034382', 'name': 'chylomicron remnant clearance'},\n",
       " {'id': 'GO:0043691', 'name': 'reverse cholesterol transport'},\n",
       " {'id': 'GO:0001540', 'name': 'amyloid-beta binding'},\n",
       " {'id': 'GO:0033344', 'name': 'cholesterol efflux'},\n",
       " {'id': 'GO:0001540', 'name': 'amyloid-beta binding'},\n",
       " {'id': 'GO:0005515', 'name': 'protein binding'},\n",
       " {'id': 'GO:0034372',\n",
       "  'name': 'very-low-density lipoprotein particle remodeling'},\n",
       " {'id': 'GO:0001540', 'name': 'amyloid-beta binding'},\n",
       " {'id': 'GO:0042802', 'name': 'identical protein binding'},\n",
       " {'id': 'GO:0007616', 'name': 'long-term memory'},\n",
       " {'id': 'GO:1905908',\n",
       "  'name': 'positive regulation of amyloid fibril formation'},\n",
       " {'id': 'GO:0005515', 'name': 'protein binding'},\n",
       " {'id': 'GO:1902995', 'name': 'positive regulation of phospholipid efflux'},\n",
       " {'id': 'GO:0016209', 'name': 'antioxidant activity'},\n",
       " {'id': 'GO:0051248',\n",
       "  'name': 'negative regulation of protein metabolic process'},\n",
       " {'id': 'GO:2000822', 'name': 'regulation of behavioral fear response'},\n",
       " {'id': 'GO:0050709', 'name': 'negative regulation of protein secretion'},\n",
       " {'id': 'GO:0005615', 'name': 'extracellular space'},\n",
       " {'id': 'GO:0034372',\n",
       "  'name': 'very-low-density lipoprotein particle remodeling'},\n",
       " {'id': 'GO:0032489',\n",
       "  'name': 'regulation of Cdc42 protein signal transduction'},\n",
       " {'id': 'GO:0010544', 'name': 'negative regulation of platelet activation'},\n",
       " {'id': 'GO:0010467', 'name': 'gene expression'},\n",
       " {'id': 'GO:0007263', 'name': 'nitric oxide mediated signal transduction'},\n",
       " {'id': 'GO:0050750',\n",
       "  'name': 'low-density lipoprotein particle receptor binding'},\n",
       " {'id': 'GO:0043254',\n",
       "  'name': 'regulation of protein-containing complex assembly'},\n",
       " {'id': 'GO:0005576', 'name': 'extracellular region'},\n",
       " {'id': 'GO:0034364', 'name': 'high-density lipoprotein particle'},\n",
       " {'id': 'GO:0019934', 'name': 'cGMP-mediated signaling'},\n",
       " {'id': 'GO:0019899', 'name': 'enzyme binding'},\n",
       " {'id': 'GO:0034382', 'name': 'chylomicron remnant clearance'},\n",
       " {'id': 'GO:0062023', 'name': 'collagen-containing extracellular matrix'},\n",
       " {'id': 'GO:0034364', 'name': 'high-density lipoprotein particle'},\n",
       " {'id': 'GO:0098978', 'name': 'glutamatergic synapse'},\n",
       " {'id': 'GO:0090090',\n",
       "  'name': 'negative regulation of canonical Wnt signaling pathway'},\n",
       " {'id': 'GO:0070062', 'name': 'extracellular exosome'},\n",
       " {'id': 'GO:0008289', 'name': 'lipid binding'},\n",
       " {'id': 'GO:0050750',\n",
       "  'name': 'low-density lipoprotein particle receptor binding'},\n",
       " {'id': 'GO:0005515', 'name': 'protein binding'},\n",
       " {'id': 'GO:0034375', 'name': 'high-density lipoprotein particle remodeling'},\n",
       " {'id': 'GO:1905920',\n",
       "  'name': 'positive regulation of CoA-transferase activity'},\n",
       " {'id': 'GO:0006641', 'name': 'triglyceride metabolic process'},\n",
       " {'id': 'GO:0005886', 'name': 'plasma membrane'},\n",
       " {'id': 'GO:0005576', 'name': 'extracellular region'},\n",
       " {'id': 'GO:0043395', 'name': 'heparan sulfate proteoglycan binding'},\n",
       " {'id': 'GO:0030669', 'name': 'clathrin-coated endocytic vesicle membrane'},\n",
       " {'id': 'GO:0005198', 'name': 'structural molecule activity'},\n",
       " {'id': 'GO:0005515', 'name': 'protein binding'},\n",
       " {'id': 'GO:0008201', 'name': 'heparin binding'},\n",
       " {'id': 'GO:0070326',\n",
       "  'name': 'very-low-density lipoprotein particle receptor binding'},\n",
       " {'id': 'GO:0090181', 'name': 'regulation of cholesterol metabolic process'},\n",
       " {'id': 'GO:0070062', 'name': 'extracellular exosome'},\n",
       " {'id': 'GO:0006898', 'name': 'receptor-mediated endocytosis'},\n",
       " {'id': 'GO:0060999',\n",
       "  'name': 'positive regulation of dendritic spine development'},\n",
       " {'id': 'GO:0010976',\n",
       "  'name': 'positive regulation of neuron projection development'},\n",
       " {'id': 'GO:0090209',\n",
       "  'name': 'negative regulation of triglyceride metabolic process'},\n",
       " {'id': 'GO:0030516', 'name': 'regulation of axon extension'},\n",
       " {'id': 'GO:0031012', 'name': 'extracellular matrix'},\n",
       " {'id': 'GO:0034361', 'name': 'very-low-density lipoprotein particle'},\n",
       " {'id': 'GO:0051651', 'name': 'maintenance of location in cell'},\n",
       " {'id': 'GO:0005769', 'name': 'early endosome'},\n",
       " {'id': 'GO:0005515', 'name': 'protein binding'},\n",
       " {'id': 'GO:0034364', 'name': 'high-density lipoprotein particle'},\n",
       " {'id': 'GO:0050750',\n",
       "  'name': 'low-density lipoprotein particle receptor binding'},\n",
       " {'id': 'GO:0015909', 'name': 'long-chain fatty acid transport'},\n",
       " {'id': 'GO:1902952',\n",
       "  'name': 'positive regulation of dendritic spine maintenance'},\n",
       " {'id': 'GO:0005515', 'name': 'protein binding'},\n",
       " {'id': 'GO:0005576', 'name': 'extracellular region'},\n",
       " {'id': 'GO:1900221', 'name': 'regulation of amyloid-beta clearance'},\n",
       " {'id': 'GO:0071682', 'name': 'endocytic vesicle lumen'},\n",
       " {'id': 'GO:0005576', 'name': 'extracellular region'},\n",
       " {'id': 'GO:1905860',\n",
       "  'name': 'positive regulation of heparan sulfate proteoglycan binding'},\n",
       " {'id': 'GO:1903561', 'name': 'extracellular vesicle'},\n",
       " {'id': 'GO:0034361', 'name': 'very-low-density lipoprotein particle'},\n",
       " {'id': 'GO:0019068', 'name': 'virion assembly'},\n",
       " {'id': 'GO:0060228',\n",
       "  'name': 'phosphatidylcholine-sterol O-acyltransferase activator activity'},\n",
       " {'id': 'GO:0034362', 'name': 'low-density lipoprotein particle'},\n",
       " {'id': 'GO:0016020', 'name': 'membrane'},\n",
       " {'id': 'GO:0034380', 'name': 'high-density lipoprotein particle assembly'},\n",
       " {'id': 'GO:0005515', 'name': 'protein binding'},\n",
       " {'id': 'GO:0005576', 'name': 'extracellular region'},\n",
       " {'id': 'GO:1900221', 'name': 'regulation of amyloid-beta clearance'},\n",
       " {'id': 'GO:0005794', 'name': 'Golgi apparatus'},\n",
       " {'id': 'GO:0048844', 'name': 'artery morphogenesis'},\n",
       " {'id': 'GO:0034363', 'name': 'intermediate-density lipoprotein particle'}]"
      ]
     },
     "execution_count": 16,
     "metadata": {},
     "output_type": "execute_result"
    }
   ],
   "source": [
    "[x[\"term\"] for x in res[\"ENSG00000130203\"][\"OpenTargets\"][\"geneOntology\"]]"
   ]
  },
  {
   "cell_type": "code",
   "execution_count": 17,
   "id": "fd2c49dd",
   "metadata": {},
   "outputs": [
    {
     "data": {
      "text/plain": [
       "[{'pathway': 'Nuclear signaling by ERBB4',\n",
       "  'topLevelTerm': 'Signal Transduction'},\n",
       " {'pathway': 'Retinoid metabolism and transport',\n",
       "  'topLevelTerm': 'Metabolism'},\n",
       " {'pathway': 'Chylomicron clearance',\n",
       "  'topLevelTerm': 'Transport of small molecules'},\n",
       " {'pathway': 'Scavenging by Class A Receptors',\n",
       "  'topLevelTerm': 'Vesicle-mediated transport'},\n",
       " {'pathway': 'Chylomicron assembly',\n",
       "  'topLevelTerm': 'Transport of small molecules'},\n",
       " {'pathway': 'Regulation of Insulin-like Growth Factor (IGF) transport and uptake by Insulin-like Growth Factor Binding Proteins (IGFBPs)',\n",
       "  'topLevelTerm': 'Metabolism of proteins'},\n",
       " {'pathway': 'Post-translational protein phosphorylation',\n",
       "  'topLevelTerm': 'Metabolism of proteins'},\n",
       " {'pathway': 'HDL remodeling', 'topLevelTerm': 'Transport of small molecules'},\n",
       " {'pathway': 'Amyloid fiber formation',\n",
       "  'topLevelTerm': 'Metabolism of proteins'},\n",
       " {'pathway': 'Transcriptional regulation by the AP-2 (TFAP2) family of transcription factors',\n",
       "  'topLevelTerm': 'Gene expression (Transcription)'},\n",
       " {'pathway': 'NR1H3 & NR1H2 regulate gene expression linked to cholesterol transport and efflux',\n",
       "  'topLevelTerm': 'Signal Transduction'},\n",
       " {'pathway': 'Chylomicron remodeling',\n",
       "  'topLevelTerm': 'Transport of small molecules'}]"
      ]
     },
     "execution_count": 17,
     "metadata": {},
     "output_type": "execute_result"
    }
   ],
   "source": [
    "res[\"ENSG00000130203\"][\"OpenTargets\"][\"pathways\"]"
   ]
  },
  {
   "cell_type": "markdown",
   "id": "a0c052b5-d524-41e4-9f98-0f7f456885ce",
   "metadata": {},
   "source": [
    "### Here we show a single evidence for ENSG00000130203 and MONDO_0004975"
   ]
  },
  {
   "cell_type": "code",
   "execution_count": 18,
   "id": "f84f05f0-4fb6-4463-b78f-b8d1b714fddd",
   "metadata": {
    "tags": []
   },
   "outputs": [
    {
     "data": {
      "text/plain": [
       "{'disease': {'id': 'MONDO_0004975', 'name': 'Alzheimer disease'},\n",
       " 'target': {'id': 'ENSG00000130203', 'approvedSymbol': 'APOE'},\n",
       " 'urls': None,\n",
       " 'diseaseFromSource': None,\n",
       " 'literature': ['36153580'],\n",
       " 'publicationYear': 2022,\n",
       " 'datasourceId': 'europepmc',\n",
       " 'datatypeId': 'literature',\n",
       " 'score': 1,\n",
       " 'resourceScore': 142,\n",
       " 'textMiningSentences': [{'section': 'other',\n",
       "   'text': 'In addition to its association with an increased risk of AD, we have previously addressed in this review that APOE4 is also an outstanding genetic risk factor for LBD [680].'},\n",
       "  {'section': 'other',\n",
       "   'text': 'Nonetheless, the precise mechanisms by which the APOE genotype and diabetes contribute to AD risk are still undetermined.'},\n",
       "  {'section': 'intro',\n",
       "   'text': 'APOE4 exacerbates Aβ aggregation, tau pathology, neuroinflammation, and neurodegeneration [39], but the mechanisms through which APOE4 exerts its detrimental effects in AD pathology are still under study.'},\n",
       "  {'section': 'other',\n",
       "   'text': 'Hence, these findings could be related to the higher incidence of AD in women and the link between low plasma apoE levels and an increased risk of suffering dementia [208].'},\n",
       "  {'section': 'concl',\n",
       "   'text': 'The APOE genotype dramatically influences many aspects of cell function in the CNS and impacts the progression of AD and other CNS diseases characterized by overt inflammation.'},\n",
       "  {'section': 'other',\n",
       "   'text': 'APOE4 is among the LOAD risk genes related to synaptic function impairments in AD [441].'},\n",
       "  {'section': 'title',\n",
       "   'text': 'APOE in the bullseye of neurodegenerative diseases: impact of the APOE genotype in Alzheimer’s disease pathology and brain diseases'},\n",
       "  {'section': 'other',\n",
       "   'text': 'A case–control study comparing the age-specific association between the APOE genotype and AD in the CSF of more than a thousand AD cases reported that the highest impact of APOE4 on AD risk was between the ages of 65 and 70 [523].'},\n",
       "  {'section': 'other',\n",
       "   'text': 'Furthermore, the presence of apoE4 negatively affects cognitive performance in PD patients and increases the risk of dementia in pure synucleinopathies (with limited AD co-pathology) [666, 681].'},\n",
       "  {'section': 'concl',\n",
       "   'text': 'Therefore, the implications of the APOE genotype in inflammatory eye-related diseases and their connection to the development of Alzheimer’s disease are highly relevant.'},\n",
       "  {'section': 'other',\n",
       "   'text': 'Initial histopathological evidence established a relation between apoE protein and NFTs in AD brains [382–384].'},\n",
       "  {'section': 'other',\n",
       "   'text': 'Two additional studies recently showed implications of apoE4 in synucleinopathies not related to AD [677, 678].'},\n",
       "  {'section': 'intro',\n",
       "   'text': 'Thus, this review aims to extensively describe the influence of APOE and its polymorphisms in different factors influencing AD, bringing special attention to the latest advances in the AD field regarding APOE’s influence in glial activity, synaptic function, cellular processes such as autophagy, and signaling cascades.'},\n",
       "  {'section': 'other',\n",
       "   'text': 'Nonetheless, neither the total CSF apoE concentration nor its isoforms were related to Aβ status nor the degree of dementia of the AD patients, in agreement with prior studies [199, 200, 202].'},\n",
       "  {'section': 'other',\n",
       "   'text': 'The most crucial process of APOE related to amyloid pathology remains unclear, and additional studies are required to increase the knowledge about the effect of APOE and amyloid pathology in AD.'},\n",
       "  {'section': 'other',\n",
       "   'text': 'The lipidation status of apoE, especially reduction of apoE lipidation by depleting ABCA1, contributes to increased amyloid deposition in AD transgenic mice [353, 354].'},\n",
       "  {'section': 'other',\n",
       "   'text': 'Notably, whereas CSF apoE levels did not appear to be affected by the APOE genotype or AD diagnosis, some studies suggest that amyloidosis is associated with reduced CSF apoE levels in an APOE4 genotype-dependent manner [199–201].'},\n",
       "  {'section': 'other',\n",
       "   'text': 'For instance, a study comparing apoE particle size from temporal lobe brain homogenates of AD and control patients by size-exclusion chromatography found that apoE particles in APOE4/4 patients were twice as big as those from APOE3/3 AD patients and APOE3/3 control subjects [125].'},\n",
       "  {'section': 'other',\n",
       "   'text': 'A case–control study comparing the age-specific association between the APOE genotype and AD in the CSF of more than a thousand AD cases reported that the highest impact of APOE4 on AD risk was between the ages of 65 and 70 [523].'},\n",
       "  {'section': 'other',\n",
       "   'text': 'Connecting APOE with other non-genetic AD-associated risk factors'},\n",
       "  {'section': 'abstract',\n",
       "   'text': \"There are three major human polymorphisms, apoE2, apoE3, and apoE4, and the genetic expression of APOE4 is one of the most influential risk factors for the development of late-onset Alzheimer's disease (AD).\"},\n",
       "  {'section': 'other',\n",
       "   'text': 'In that context, it is intriguing whether or not the APOE genotype impacts the association between a physically active lifestyle and the development of dementia, particularly in AD.'},\n",
       "  {'section': 'other',\n",
       "   'text': 'Throughout different studies, APOE4 carriers display a robust amnestic phenotype with a more severe and typical medial and temporal spread of tau, following the stereotypical Braak staging system characterized in AD [387–390].'},\n",
       "  {'section': 'other',\n",
       "   'text': 'The implications of APOE4 in synucleinopathies are still poorly understood, but recent studies suggest that the APOE gene regulates α-syn brain pathology independently of its effects on AD-related Aβ and tau pathology and that specifically APOE4 exacerbates α-syn pathology [683, 684].'},\n",
       "  {'section': 'abstract',\n",
       "   'text': 'We discuss influential factors affecting AD pathology combined with the APOE genotype, such as sex, age, diet, physical exercise, current therapies and clinical trials in the AD field.'},\n",
       "  {'section': 'other',\n",
       "   'text': 'Thus, due to the critical impact of lipidation on apoE’s physiological and pathological roles, increasing apoE lipidation has been proposed as a target for AD treatment [114].'},\n",
       "  {'section': 'other',\n",
       "   'text': 'Immunotherapy against AD opens another attractive therapeutic alternative, the use of anti-apoE antibodies.'},\n",
       "  {'section': 'other',\n",
       "   'text': 'Previously, Zhu and colleagues noticed an apoE4-specific increase in the expression of synaptojanin 1 (SYNJ1), a phospholipid regulator which, when induced, caused an increased Aβ clearance and reduced synaptic damage in an AD mice model [490, 491].'},\n",
       "  {'section': 'abstract',\n",
       "   'text': \"This review reflects on how APOE's polymorphisms impact critical aspects of AD pathology, such as the neuroinflammatory response, particularly the effect of APOE on astrocytic and microglial function and microglial dynamics, synaptic function, amyloid-β load, tau pathology, autophagy, and cell–cell communication.\"},\n",
       "  {'section': 'abstract',\n",
       "   'text': \"There are three major human polymorphisms, apoE2, apoE3, and apoE4, and the genetic expression of APOE4 is one of the most influential risk factors for the development of late-onset Alzheimer's disease (AD).\"},\n",
       "  {'section': 'other',\n",
       "   'text': 'It has been proposed a link between APOE4 polymorphism and an increase of white matter hyperintensity lesioned areas observed by MRI in AD patients [313, 314].'},\n",
       "  {'section': 'other',\n",
       "   'text': 'Current AD therapies and clinical trials. Targeting APOE4'},\n",
       "  {'section': 'title',\n",
       "   'text': 'APOE in the bullseye of neurodegenerative diseases: impact of the APOE genotype in Alzheimer’s disease pathology and brain diseases'},\n",
       "  {'section': 'abstract',\n",
       "   'text': \"There are three major human polymorphisms, apoE2, apoE3, and apoE4, and the genetic expression of APOE4 is one of the most influential risk factors for the development of late-onset Alzheimer's disease (AD).\"},\n",
       "  {'section': 'other',\n",
       "   'text': 'Regarding ApoE’s interaction with TLRs, it has been described a deleterious effect of the APOE4 genotype in AD through the TLR4-dependent pathway [269], and apoE3 can inhibit macrophage activation driven by TLR4 [280], TLRs recruit TIR domain-containing adaptor proteins such as MyD88, TRIF, TIRAP/TRAM, or TRAM, leading to activation of different signal transduction pathways, including NF-κB and MAP kinases and hence inducing inflammatory cytokine gene expression [281].'},\n",
       "  {'section': 'other',\n",
       "   'text': 'These disparities justified using the human APOE gene sequence in transgenic pre-clinical AD models.'},\n",
       "  {'section': 'other',\n",
       "   'text': 'Nevertheless, the specific mechanism by which APOE4 alters autophagy is not yet fully understood, although several publications support that it is one of the main pathological processes regulated by APOE4 in AD (see review [485]).'},\n",
       "  {'section': 'other',\n",
       "   'text': 'In addition to those mentioned above, two Phase 1 ongoing clinical trials show novel APOE4 therapeutic approaches in patients with AD or MCI (NCT03887741 and NCT03634007).'},\n",
       "  {'section': 'other',\n",
       "   'text': 'Intriguingly, APOE4 has also been associated with higher levels of CSF α-syn in patients in the AD continuum where patients with mild cognitive impairment (MCI) who, after 24 months follow-up fulfilled the clinical criteria for an AD diagnosis, exhibited higher CSF α-syn levels in an APOE4 dose-dependent manner [685].'},\n",
       "  {'section': 'other',\n",
       "   'text': 'In this section, we are exploring the importance of the APOE genotype in neurodegenerative diseases other than AD.'},\n",
       "  {'section': 'other',\n",
       "   'text': 'They also revealed ARMs as the meeting point for aging processes, sex, and AD risk factors because ARM response was abolished with APOE deletion.'},\n",
       "  {'section': 'other',\n",
       "   'text': 'A recent publication from Berger and colleagues evaluated the proteomic changes in the CSF of AD Neuroimaging Initiative (ADNI) samples by applying linear regression models adjusted by age, sex, APOE4 copy number, and linear models to adjust by AD clinical status or CSF levels of Aβ or tau.'},\n",
       "  {'section': 'other',\n",
       "   'text': 'For instance, a study comparing apoE particle size from temporal lobe brain homogenates of AD and control patients by size-exclusion chromatography found that apoE particles in APOE4/4 patients were twice as big as those from APOE3/3 AD patients and APOE3/3 control subjects [125].'},\n",
       "  {'section': 'other',\n",
       "   'text': 'Further studies taking into account the cellular sexual dimorphism will be of great value to further unravel the interaction between sex and the APOE genotype in neurodegenerative diseases, particularly in AD.'},\n",
       "  {'section': 'other',\n",
       "   'text': 'Thus, due to the critical impact of lipidation on apoE’s physiological and pathological roles, increasing apoE lipidation has been proposed as a target for AD treatment [114].'},\n",
       "  {'section': 'other',\n",
       "   'text': 'Zhu and colleagues observed an exacerbated reduction in PIP2 in APOE4 carriers’ brains compared to APOE3. Decreased levels of PIP2 were associated with an increase in Synj1 [491], a PIP2-degrading enzyme [507] significantly upregulated in AD brains [508] and associated with reduced internalization and degradation of Aβ [509].'},\n",
       "  {'section': 'other',\n",
       "   'text': 'The APOE4 genotype is associated with lower C-reactive protein levels, which in turn, correlates with greater APOE-related AD risk [526].'},\n",
       "  {'section': 'other',\n",
       "   'text': 'The knowledge about APOE’s role in AD has increased significantly in recent years.'},\n",
       "  {'section': 'other',\n",
       "   'text': 'ApoE co-localizes with synaptic markers in both healthy controls and AD subjects, pointing towards a not purely pathological role of apoE at synaptic terminals.'},\n",
       "  {'section': 'other',\n",
       "   'text': 'Multiple studies have focused on the impact of protein glycosylation in AD pathogenesis [87–89], apoE produced by astrocytes is more heavily sialylated and glycosylated, and some studies suggest the existence of tissue-specific apoE glycoforms [79, 90].'},\n",
       "  {'section': 'other',\n",
       "   'text': 'The lipidation status of apoE, especially reduction of apoE lipidation by depleting ABCA1, contributes to increased amyloid deposition in AD transgenic mice [353, 354].'},\n",
       "  {'section': 'other',\n",
       "   'text': 'It is also relevant to note that human and m-apoE differ in functionality in most AD processes, such as Aβ clearance, neuroinflammation, and synaptic integrity [66–68].'},\n",
       "  {'section': 'other',\n",
       "   'text': 'Increased insight in this area could potentially open up new treatment strategies combining exercise interventions with future pharmacological therapies to target specific neuroinflammatory pathological events early in AD patients depending on APOE genotype.'},\n",
       "  {'section': 'other',\n",
       "   'text': 'The study by Dickson and colleagues, including more than 600 hundred PDD and LBD post-mortem samples, showed that severity of LB pathology was associated with APOE4 variant independently of the severity of concomitant AD, yet, the analysis only included cortical regions [676].'},\n",
       "  {'section': 'other',\n",
       "   'text': 'This study offers a new potential therapeutic approach to the regulation of apoE4 and its effect on autophagy in AD.'},\n",
       "  {'section': 'other',\n",
       "   'text': 'In terms of brain imaging evidence, studies using the tau PET tracer 18F-AV-1451, also known as 18F-flortaucipir, showed contradictory results, ranging from an association between medial temporal tau and apoE4 independently of Aβ in cognitive performance [407]; to establishing no association between medial temporal tau and apoE4 in cognitively normal individuals, mild cognitive impairment (MCI) or AD patients [408, 409].'},\n",
       "  {'section': 'abstract',\n",
       "   'text': 'Therefore, this review gathers the most relevant findings related to the APOE genotype up to date and its implications on AD and CNS pathologies to provide a deeper understanding of the knowledge in the APOE field.'},\n",
       "  {'section': 'other',\n",
       "   'text': 'A complete lack of APOE expression in AD transgenic mice overexpressing human mutant APP, but not PSEN1, dramatically reduces deposition of Aβ in the brain and lowers both Aβ40 and Aβ42 deposits, highlighting the important role of human APOE in amyloid deposition [341–343].'},\n",
       "  {'section': 'other',\n",
       "   'text': 'Likewise, it was recently confirmed the sex-specificity between AD biomarkers and CSF apoE, where baseline CSF apoE levels in women were significantly associated with Aβ and tau levels [417], which does not entirely align with results from previous studies [546, 547].'},\n",
       "  {'section': 'intro',\n",
       "   'text': 'The detrimental effects of APOE on AD pathology have been linked to its immunomodulatory functions [36].'},\n",
       "  {'section': 'other',\n",
       "   'text': 'Altogether, different studies established a clear link between autophagy and APOE4, which may be one of the main cellular processes underlying the detrimental effect of APOE4 in AD.'},\n",
       "  {'section': 'other',\n",
       "   'text': 'The apoE-cholesterol pathway differentially affects both AD and Lewy Body dementia (LBD), and the relevance of cholesterol in Lewy Body pathology has been recently reviewed [656–658].'},\n",
       "  {'section': 'intro',\n",
       "   'text': 'APOE’s role in increasing AD risk is complex and multifactorial.'},\n",
       "  {'section': 'abstract',\n",
       "   'text': 'We discuss influential factors affecting AD pathology combined with the APOE genotype, such as sex, age, diet, physical exercise, current therapies and clinical trials in the AD field.'},\n",
       "  {'section': 'other',\n",
       "   'text': 'Nevertheless, the specific mechanism by which APOE4 alters autophagy is not yet fully understood, although several publications support that it is one of the main pathological processes regulated by APOE4 in AD (see review [485]).'},\n",
       "  {'section': 'other',\n",
       "   'text': 'APOE4 is closely related to synaptic degeneration, as observed from studies with cerebral organoids from AD patients carrying APOE4, in which APOE4 carriers presented higher levels of cellular apoptosis and decreased synaptic integrity [184].'},\n",
       "  {'section': 'other',\n",
       "   'text': 'For instance, a study comparing apoE particle size from temporal lobe brain homogenates of AD and control patients by size-exclusion chromatography found that apoE particles in APOE4/4 patients were twice as big as those from APOE3/3 AD patients and APOE3/3 control subjects [125].'},\n",
       "  {'section': 'other',\n",
       "   'text': 'A recent publication from Berger and colleagues evaluated the proteomic changes in the CSF of AD Neuroimaging Initiative (ADNI) samples by applying linear regression models adjusted by age, sex, APOE4 copy number, and linear models to adjust by AD clinical status or CSF levels of Aβ or tau.'},\n",
       "  {'section': 'intro',\n",
       "   'text': 'Thus, this review aims to extensively describe the influence of APOE and its polymorphisms in different factors influencing AD, bringing special attention to the latest advances in the AD field regarding APOE’s influence in glial activity, synaptic function, cellular processes such as autophagy, and signaling cascades.'},\n",
       "  {'section': 'other',\n",
       "   'text': 'ApoE co-deposits within amyloid plaques [355] and the form of apoE localizing to insoluble Aβ deposits in AD appears to be poorly lipidated [354].'},\n",
       "  {'section': 'other',\n",
       "   'text': 'Notably, whereas CSF apoE levels did not appear to be affected by the APOE genotype or AD diagnosis, some studies suggest that amyloidosis is associated with reduced CSF apoE levels in an APOE4 genotype-dependent manner [199–201].'},\n",
       "  {'section': 'other',\n",
       "   'text': 'In sum, APOE4 has been highly associated with changes in amyloid pathology in AD.'},\n",
       "  {'section': 'concl',\n",
       "   'text': 'For instance, the APOE Jacksonville mutation (V236E), characterized by a mutation in the lipid-binding region, was reported to reduce Aβ aggregation in 5xFAD mice and manifested the relevance of lipid metabolism during AD [78].'},\n",
       "  {'section': 'other', 'text': 'APOE in Alzheimer’s disease'},\n",
       "  {'section': 'abstract',\n",
       "   'text': \"There are three major human polymorphisms, apoE2, apoE3, and apoE4, and the genetic expression of APOE4 is one of the most influential risk factors for the development of late-onset Alzheimer's disease (AD).\"},\n",
       "  {'section': 'other',\n",
       "   'text': 'Thus, future studies evaluating the impact of diet and the APOE genotype in AD pathology will be of great value.'},\n",
       "  {'section': 'other',\n",
       "   'text': 'The authors observed that increasing APOE4 copy number was related to decreased CSF levels of C-reactive protein (a classical inflammatory marker), which correlated with cognitive impairment and AD progression [203, 204].'},\n",
       "  {'section': 'other',\n",
       "   'text': 'Altogether, different studies established a clear link between autophagy and APOE4, which may be one of the main cellular processes underlying the detrimental effect of APOE4 in AD.'},\n",
       "  {'section': 'other',\n",
       "   'text': 'In addition, apoE/Aβ complexes accumulate in human cortical synaptic terminals, especially during AD, and their expression increases in the presence of apoE4, compared to brains from non-APOE4 carriers [461].'},\n",
       "  {'section': 'other',\n",
       "   'text': 'In terms of brain imaging evidence, studies using the tau PET tracer 18F-AV-1451, also known as 18F-flortaucipir, showed contradictory results, ranging from an association between medial temporal tau and apoE4 independently of Aβ in cognitive performance [407]; to establishing no association between medial temporal tau and apoE4 in cognitively normal individuals, mild cognitive impairment (MCI) or AD patients [408, 409].'},\n",
       "  {'section': 'other',\n",
       "   'text': 'Even though apoE4 receptors VLDLR and apoER2 activate PI3K/AKT/mTORC1 [499, 500], Yates and colleagues observed that the alteration in the mTORC1 pathway was independent of apoE status in brains of AD-patients [501].'},\n",
       "  {'section': 'other',\n",
       "   'text': 'The implications of APOE4 in synucleinopathies are still poorly understood, but recent studies suggest that the APOE gene regulates α-syn brain pathology independently of its effects on AD-related Aβ and tau pathology and that specifically APOE4 exacerbates α-syn pathology [683, 684].'},\n",
       "  {'section': 'other',\n",
       "   'text': 'Related to this, Hayden Y. and colleagues aimed to better characterize the interaction between white matter ischemic lesions, the APOE4 genotype, and amyloid pathology in AD using E4FAD mice subjected to a subcortical ischemic stroke.'},\n",
       "  {'section': 'other',\n",
       "   'text': 'ApoE co-deposits within amyloid plaques [355] and the form of apoE localizing to insoluble Aβ deposits in AD appears to be poorly lipidated [354].'},\n",
       "  {'section': 'intro',\n",
       "   'text': 'However, the implications of APOE are not limited to AD.'},\n",
       "  {'section': 'intro',\n",
       "   'text': 'Advances in single-cell analysis, transcriptomics, and metabolomic studies have shed some light on the effect of APOE upon multiple aspects of AD pathology.'},\n",
       "  {'section': 'other', 'text': 'APOE and synaptic function in AD'},\n",
       "  {'section': 'intro',\n",
       "   'text': 'APOE4 exacerbates Aβ aggregation, tau pathology, neuroinflammation, and neurodegeneration [39], but the mechanisms through which APOE4 exerts its detrimental effects in AD pathology are still under study.'},\n",
       "  {'section': 'other',\n",
       "   'text': 'The strongest effect with age on amyloid burden and Aβ42 CSF levels was seen in APOE4 homozygotes, suggesting a dose-dependent APOE4 effect on amyloid plaque burden prior to clinical AD onset [346].'},\n",
       "  {'section': 'other', 'text': 'APOE, amyloid-β load and AD pathology'},\n",
       "  {'section': 'other',\n",
       "   'text': 'Regarding ApoE’s interaction with TLRs, it has been described a deleterious effect of the APOE4 genotype in AD through the TLR4-dependent pathway [269], and apoE3 can inhibit macrophage activation driven by TLR4 [280], TLRs recruit TIR domain-containing adaptor proteins such as MyD88, TRIF, TIRAP/TRAM, or TRAM, leading to activation of different signal transduction pathways, including NF-κB and MAP kinases and hence inducing inflammatory cytokine gene expression [281].'},\n",
       "  {'section': 'other',\n",
       "   'text': 'Nonetheless, APOE deletion in a more aggressive AD mouse model containing mutations in both APP and PSEN1, such as APP/PS1 mice, induces an overall increase in plaque size [236].'},\n",
       "  {'section': 'other',\n",
       "   'text': 'In line with these observations, reduced apoE in amyloid plaques was found in the brains of AD patients carrying different TREM loss-of-function variants [274].'},\n",
       "  {'section': 'other',\n",
       "   'text': 'A case–control study comparing the age-specific association between the APOE genotype and AD in the CSF of more than a thousand AD cases reported that the highest impact of APOE4 on AD risk was between the ages of 65 and 70 [523].'},\n",
       "  {'section': 'other',\n",
       "   'text': 'Therefore, a better understanding of the mechanisms involving TBI and APOE could be of great interest to discover possible disease-modifying biomarkers to halt AD progression.'},\n",
       "  {'section': 'other',\n",
       "   'text': 'The most crucial process of APOE related to amyloid pathology remains unclear, and additional studies are required to increase the knowledge about the effect of APOE and amyloid pathology in AD.'},\n",
       "  {'section': 'other',\n",
       "   'text': 'Intriguingly, APOE4 has also been associated with higher levels of CSF α-syn in patients in the AD continuum where patients with mild cognitive impairment (MCI) who, after 24 months follow-up fulfilled the clinical criteria for an AD diagnosis, exhibited higher CSF α-syn levels in an APOE4 dose-dependent manner [685].'},\n",
       "  {'section': 'other',\n",
       "   'text': 'Regarding the risk of getting diagnosed with AD, some studies show that the lower risk of developing all-cause dementia and AD among highly active persons is more pronounced in APOE4 non-carriers [586, 587, 607, 608].'},\n",
       "  {'section': 'other',\n",
       "   'text': 'For instance, a study comparing apoE particle size from temporal lobe brain homogenates of AD and control patients by size-exclusion chromatography found that apoE particles in APOE4/4 patients were twice as big as those from APOE3/3 AD patients and APOE3/3 control subjects [125].'},\n",
       "  {'section': 'other',\n",
       "   'text': 'The authors also observed an increase in the hippocampal synaptic levels of the marker CD47, apoE, and a possible link between low apoE levels in pre-synaptic events and AD resilience [463].'},\n",
       "  {'section': 'other',\n",
       "   'text': 'Human studies have identified low plasma apoE values as a significant risk factor for AD and other types of dementia [209].'},\n",
       "  {'section': 'other',\n",
       "   'text': 'In the context of AD, it is difficult to isolate a direct connection between apoE and tau due to the effect of Aβ, and it is argued that the effect of the APOE4 allele on tau pathology may be secondary to the marked effect of the APOE genotype on Aβ burden.'},\n",
       "  {'section': 'other',\n",
       "   'text': 'Female sex, together with advanced age and the expression of APOE4 genotype, constitutes one of the most relevant risk factors for the development of AD.'},\n",
       "  {'section': 'other',\n",
       "   'text': 'Even though apoE4 receptors VLDLR and apoER2 activate PI3K/AKT/mTORC1 [499, 500], Yates and colleagues observed that the alteration in the mTORC1 pathway was independent of apoE status in brains of AD-patients [501].'},\n",
       "  {'section': 'other',\n",
       "   'text': 'Besides parenchymal amyloid plaque deposition, APOE4 has also been linked to cerebral amyloid angiopathy (CAA) formation in an AD transgenic mouse model (Tg2576) cross-bred with humanized APOE-knock in mice [344].'},\n",
       "  {'section': 'other',\n",
       "   'text': 'In AD mouse models, WAMs signature is APOE-dependent, whereas in aged brains, WAMs show an APOE-independent signature [311].'},\n",
       "  {'section': 'other',\n",
       "   'text': 'A case–control study comparing the age-specific association between the APOE genotype and AD in the CSF of more than a thousand AD cases reported that the highest impact of APOE4 on AD risk was between the ages of 65 and 70 [523].'},\n",
       "  {'section': 'other',\n",
       "   'text': 'The study by Cruchaga and colleagues examined the correlation between CSF and plasma apoE levels in 641 AD patients and controls, in which they found a very low correlation [205].'},\n",
       "  {'section': 'concl',\n",
       "   'text': 'However, it was recently reported that low presynaptic apoE levels could be related to AD resilience [463].'},\n",
       "  {'section': 'other',\n",
       "   'text': 'The authors also observed an increase in the hippocampal synaptic levels of the marker CD47, apoE, and a possible link between low apoE levels in pre-synaptic events and AD resilience [463].'}],\n",
       " 'significantDriverMethods': None,\n",
       " 'cohortId': None,\n",
       " 'cohortShortName': None,\n",
       " 'cohortDescription': None,\n",
       " 'mutatedSamples': None}"
      ]
     },
     "execution_count": 18,
     "metadata": {},
     "output_type": "execute_result"
    }
   ],
   "source": [
    "res[\"ENSG00000130203\"][\"OpenTargets_disease_evidence\"][\"evidences\"][\"rows\"][0]"
   ]
  },
  {
   "cell_type": "markdown",
   "id": "6a5d4c1a",
   "metadata": {},
   "source": [
    "### Fields retrieved from Pharos for each target"
   ]
  },
  {
   "cell_type": "code",
   "execution_count": 19,
   "id": "ed9ada9d",
   "metadata": {},
   "outputs": [
    {
     "data": {
      "text/plain": [
       "dict_keys(['name', 'preferredSymbol', 'tdl', 'fam', 'sym', 'description', 'novelty', 'pantherClasses', 'dto', 'gwas', 'gwasAnalytics', 'pathways', 'diseaseCounts', 'diseases', 'tissueSpecificity', 'gtex', 'ppis', 'tinx'])"
      ]
     },
     "execution_count": 19,
     "metadata": {},
     "output_type": "execute_result"
    }
   ],
   "source": [
    "res[\"ENSG00000130203\"][\"Pharos\"].keys()"
   ]
  },
  {
   "cell_type": "markdown",
   "id": "b03cee65",
   "metadata": {},
   "source": [
    "### Examples of Pharos fields"
   ]
  },
  {
   "cell_type": "code",
   "execution_count": 20,
   "id": "d9134d47",
   "metadata": {},
   "outputs": [
    {
     "data": {
      "text/plain": [
       "'Tbio'"
      ]
     },
     "execution_count": 20,
     "metadata": {},
     "output_type": "execute_result"
    }
   ],
   "source": [
    "res[\"ENSG00000130203\"][\"Pharos\"][\"tdl\"]"
   ]
  },
  {
   "cell_type": "code",
   "execution_count": 21,
   "id": "87634d60",
   "metadata": {},
   "outputs": [
    {
     "data": {
      "text/plain": [
       "'Apolipoprotein E'"
      ]
     },
     "execution_count": 21,
     "metadata": {},
     "output_type": "execute_result"
    }
   ],
   "source": [
    "res[\"ENSG00000130203\"][\"Pharos\"][\"name\"]"
   ]
  },
  {
   "cell_type": "code",
   "execution_count": 22,
   "id": "7217e424",
   "metadata": {},
   "outputs": [
    {
     "data": {
      "text/plain": [
       "[]"
      ]
     },
     "execution_count": 22,
     "metadata": {},
     "output_type": "execute_result"
    }
   ],
   "source": [
    "res[\"ENSG00000130203\"][\"Pharos\"][\"pantherClasses\"]"
   ]
  },
  {
   "cell_type": "code",
   "execution_count": 23,
   "id": "8748aae9",
   "metadata": {},
   "outputs": [
    {
     "data": {
      "text/plain": [
       "[]"
      ]
     },
     "execution_count": 23,
     "metadata": {},
     "output_type": "execute_result"
    }
   ],
   "source": [
    "res[\"ENSG00000130203\"][\"Pharos\"][\"dto\"]"
   ]
  },
  {
   "cell_type": "code",
   "execution_count": 24,
   "id": "0d28e8e4",
   "metadata": {},
   "outputs": [
    {
     "data": {
      "text/plain": [
       "'The protein encoded by this gene is a major apoprotein of the chylomicron. It binds to a specific liver and peripheral cell receptor, and is essential for the normal catabolism of triglyceride-rich lipoprotein constituents. This gene maps to chromosome 19 in a cluster with the related apolipoprotein C1 and C2 genes. Mutations in this gene result in familial dysbetalipoproteinemia, or type III hyperlipoproteinemia (HLP III), in which increased plasma cholesterol and triglycerides are the consequence of impaired clearance of chylomicron and VLDL remnants. [provided by RefSeq, Jun 2016]'"
      ]
     },
     "execution_count": 24,
     "metadata": {},
     "output_type": "execute_result"
    }
   ],
   "source": [
    "res[\"ENSG00000130203\"][\"Pharos\"][\"description\"]"
   ]
  },
  {
   "cell_type": "code",
   "execution_count": 25,
   "id": "d140449a",
   "metadata": {},
   "outputs": [
    {
     "data": {
      "text/plain": [
       "[{'name': 'Alzheimer disease',\n",
       "  'pwid': 12959,\n",
       "  'targetCounts': [{'name': 'Tbio', 'value': 66},\n",
       "   {'name': 'Tclin', 'value': 57},\n",
       "   {'name': 'Tchem', 'value': 41},\n",
       "   {'name': 'Tdark', 'value': 7}],\n",
       "  'type': 'KEGG'},\n",
       " {'name': 'Cholesterol metabolism',\n",
       "  'pwid': 23630,\n",
       "  'targetCounts': [{'name': 'Tbio', 'value': 27},\n",
       "   {'name': 'Tchem', 'value': 20},\n",
       "   {'name': 'Tclin', 'value': 4}],\n",
       "  'type': 'KEGG'},\n",
       " {'name': 'Binding and Uptake of Ligands by Scavenger Receptors',\n",
       "  'pwid': 65693,\n",
       "  'targetCounts': [{'name': 'Tdark', 'value': 71},\n",
       "   {'name': 'Tbio', 'value': 37},\n",
       "   {'name': 'Tchem', 'value': 7},\n",
       "   {'name': 'Tclin', 'value': 1}],\n",
       "  'type': 'Reactome'},\n",
       " {'name': 'Chylomicron assembly',\n",
       "  'pwid': 72303,\n",
       "  'targetCounts': [{'name': 'Tbio', 'value': 6},\n",
       "   {'name': 'Tchem', 'value': 2},\n",
       "   {'name': 'Tclin', 'value': 2}],\n",
       "  'type': 'Reactome'},\n",
       " {'name': 'Chylomicron clearance',\n",
       "  'pwid': 72308,\n",
       "  'targetCounts': [{'name': 'Tchem', 'value': 3},\n",
       "   {'name': 'Tbio', 'value': 2}],\n",
       "  'type': 'Reactome'},\n",
       " {'name': 'Chylomicron remodeling',\n",
       "  'pwid': 72319,\n",
       "  'targetCounts': [{'name': 'Tbio', 'value': 7},\n",
       "   {'name': 'Tchem', 'value': 2},\n",
       "   {'name': 'Tclin', 'value': 1}],\n",
       "  'type': 'Reactome'},\n",
       " {'name': 'G alpha (i) signalling events',\n",
       "  'pwid': 89069,\n",
       "  'targetCounts': [{'name': 'Tbio', 'value': 193},\n",
       "   {'name': 'Tchem', 'value': 146},\n",
       "   {'name': 'Tclin', 'value': 61},\n",
       "   {'name': 'Tdark', 'value': 8}],\n",
       "  'type': 'Reactome'},\n",
       " {'name': 'GPCR downstream signalling',\n",
       "  'pwid': 91504,\n",
       "  'targetCounts': [{'name': 'Tdark', 'value': 423},\n",
       "   {'name': 'Tbio', 'value': 350},\n",
       "   {'name': 'Tchem', 'value': 237},\n",
       "   {'name': 'Tclin', 'value': 142}],\n",
       "  'type': 'Reactome'},\n",
       " {'name': 'Gene expression (Transcription)',\n",
       "  'pwid': 93679,\n",
       "  'targetCounts': [{'name': 'Tbio', 'value': 876},\n",
       "   {'name': 'Tdark', 'value': 283},\n",
       "   {'name': 'Tchem', 'value': 223},\n",
       "   {'name': 'Tclin', 'value': 70}],\n",
       "  'type': 'Reactome'},\n",
       " {'name': 'Generic Transcription Pathway',\n",
       "  'pwid': 95177,\n",
       "  'targetCounts': [{'name': 'Tbio', 'value': 651},\n",
       "   {'name': 'Tdark', 'value': 268},\n",
       "   {'name': 'Tchem', 'value': 208},\n",
       "   {'name': 'Tclin', 'value': 68}],\n",
       "  'type': 'Reactome'}]"
      ]
     },
     "execution_count": 25,
     "metadata": {},
     "output_type": "execute_result"
    }
   ],
   "source": [
    "res[\"ENSG00000130203\"][\"Pharos\"][\"pathways\"]"
   ]
  },
  {
   "cell_type": "code",
   "execution_count": 26,
   "id": "a6e8b7d0",
   "metadata": {},
   "outputs": [
    {
     "data": {
      "text/plain": [
       "[{'nid': 9688518,\n",
       "  'props': [{'name': 'tdl', 'value': 'Tdark'},\n",
       "   {'name': 'Novelty', 'value': '0.91681036'},\n",
       "   {'name': 'p_int', 'value': '0.999998892'},\n",
       "   {'name': 'p_ni', 'value': '0.000001108'},\n",
       "   {'name': 'Data Source', 'value': 'BioPlex'}],\n",
       "  'type': 'BioPlex',\n",
       "  'target': {'preferredSymbol': 'MANSC1'}},\n",
       " {'nid': 9687076,\n",
       "  'props': [{'name': 'tdl', 'value': 'Tbio'},\n",
       "   {'name': 'Novelty', 'value': '0.01080446'},\n",
       "   {'name': 'p_int', 'value': '0.999998035'},\n",
       "   {'name': 'p_ni', 'value': '0.000001965'},\n",
       "   {'name': 'Data Source', 'value': 'BioPlex'}],\n",
       "  'type': 'BioPlex',\n",
       "  'target': {'preferredSymbol': 'HLA-DPA1'}},\n",
       " {'nid': 9688420,\n",
       "  'props': [{'name': 'tdl', 'value': 'Tbio'},\n",
       "   {'name': 'Novelty', 'value': '0.03378128'},\n",
       "   {'name': 'p_int', 'value': '0.999960004'},\n",
       "   {'name': 'p_ni', 'value': '0.000039913'},\n",
       "   {'name': 'p_wrong', 'value': '8.2e-8'},\n",
       "   {'name': 'Score', 'value': '0.2'},\n",
       "   {'name': 'Data Source', 'value': 'BioPlex,STRINGDB'}],\n",
       "  'type': 'BioPlex,STRINGDB',\n",
       "  'target': {'preferredSymbol': 'MMRN1'}},\n",
       " {'nid': 9687555,\n",
       "  'props': [{'name': 'tdl', 'value': 'Tbio'},\n",
       "   {'name': 'Novelty', 'value': '0.0011441'},\n",
       "   {'name': 'p_int', 'value': '0.999949506'},\n",
       "   {'name': 'p_ni', 'value': '0.000050386'},\n",
       "   {'name': 'p_wrong', 'value': '1.08e-7'},\n",
       "   {'name': 'Score', 'value': '0.694'},\n",
       "   {'name': 'Data Source', 'value': 'BioPlex,STRINGDB'}],\n",
       "  'type': 'BioPlex,STRINGDB',\n",
       "  'target': {'preferredSymbol': 'VDAC1'}},\n",
       " {'nid': 9689642,\n",
       "  'props': [{'name': 'tdl', 'value': 'Tchem'},\n",
       "   {'name': 'Novelty', 'value': '0.00041675'},\n",
       "   {'name': 'p_int', 'value': '0.999922274'},\n",
       "   {'name': 'p_ni', 'value': '0.000077208'},\n",
       "   {'name': 'p_wrong', 'value': '5.18e-7'},\n",
       "   {'name': 'Score', 'value': '0.821'},\n",
       "   {'name': 'Data Source', 'value': 'BioPlex,STRINGDB'}],\n",
       "  'type': 'BioPlex,STRINGDB',\n",
       "  'target': {'preferredSymbol': 'MMP3'}},\n",
       " {'nid': 9687277,\n",
       "  'props': [{'name': 'tdl', 'value': 'Tdark'},\n",
       "   {'name': 'Novelty', 'value': '3.33740474'},\n",
       "   {'name': 'p_int', 'value': '0.999920991'},\n",
       "   {'name': 'p_ni', 'value': '0.000079008'},\n",
       "   {'name': 'p_wrong', 'value': '1e-9'},\n",
       "   {'name': 'Data Source', 'value': 'BioPlex'}],\n",
       "  'type': 'BioPlex',\n",
       "  'target': {'preferredSymbol': 'C16orf92'}},\n",
       " {'nid': 9686873,\n",
       "  'props': [{'name': 'tdl', 'value': 'Tchem'},\n",
       "   {'name': 'Novelty', 'value': '0.00749298'},\n",
       "   {'name': 'p_int', 'value': '0.999854944'},\n",
       "   {'name': 'p_ni', 'value': '0.000144993'},\n",
       "   {'name': 'p_wrong', 'value': '6.3e-8'},\n",
       "   {'name': 'Score', 'value': '0.401'},\n",
       "   {'name': 'Data Source', 'value': 'BioPlex,STRINGDB'}],\n",
       "  'type': 'BioPlex,STRINGDB',\n",
       "  'target': {'preferredSymbol': 'C9'}},\n",
       " {'nid': 9689257,\n",
       "  'props': [{'name': 'tdl', 'value': 'Tbio'},\n",
       "   {'name': 'Novelty', 'value': '0.0015496'},\n",
       "   {'name': 'p_int', 'value': '0.999179357'},\n",
       "   {'name': 'p_ni', 'value': '0.000811847'},\n",
       "   {'name': 'p_wrong', 'value': '0.000008796'},\n",
       "   {'name': 'Score', 'value': '0.993'},\n",
       "   {'name': 'Data Source', 'value': 'BioPlex,Reactome,STRINGDB'}],\n",
       "  'type': 'BioPlex,Reactome,STRINGDB',\n",
       "  'target': {'preferredSymbol': 'APOC2'}},\n",
       " {'nid': 9687562,\n",
       "  'props': [{'name': 'tdl', 'value': 'Tbio'},\n",
       "   {'name': 'Novelty', 'value': '0.0095068'},\n",
       "   {'name': 'p_int', 'value': '0.999125127'},\n",
       "   {'name': 'p_ni', 'value': '0.000874846'},\n",
       "   {'name': 'p_wrong', 'value': '2.7e-8'},\n",
       "   {'name': 'Score', 'value': '0.225'},\n",
       "   {'name': 'Data Source', 'value': 'BioPlex,STRINGDB'}],\n",
       "  'type': 'BioPlex,STRINGDB',\n",
       "  'target': {'preferredSymbol': 'VDAC3'}},\n",
       " {'nid': 9688410,\n",
       "  'props': [{'name': 'tdl', 'value': 'Tchem'},\n",
       "   {'name': 'Novelty', 'value': '0.00112113'},\n",
       "   {'name': 'p_int', 'value': '0.997865595'},\n",
       "   {'name': 'p_ni', 'value': '0.002132562'},\n",
       "   {'name': 'p_wrong', 'value': '0.000001842'},\n",
       "   {'name': 'Score', 'value': '0.694'},\n",
       "   {'name': 'Data Source', 'value': 'BioPlex,STRINGDB'}],\n",
       "  'type': 'BioPlex,STRINGDB',\n",
       "  'target': {'preferredSymbol': 'MMP10'}}]"
      ]
     },
     "execution_count": 26,
     "metadata": {},
     "output_type": "execute_result"
    }
   ],
   "source": [
    "res[\"ENSG00000130203\"][\"Pharos\"][\"ppis\"]"
   ]
  },
  {
   "cell_type": "code",
   "execution_count": 27,
   "id": "1569777c",
   "metadata": {},
   "outputs": [
    {
     "data": {
      "text/plain": [
       "[{'name': 'HPA Protein Tissue Specificity Index', 'value': 0.826923},\n",
       " {'name': 'HPA RNA Tissue Specificity Index', 'value': 0.836079},\n",
       " {'name': 'HPM Protein Tissue Specificity Index', 'value': 0.750509},\n",
       " {'name': 'GTEx Tissue Specificity Index', 'value': 0.888924},\n",
       " {'name': 'GTEx Tissue Specificity Index - Male', 'value': 0.879094},\n",
       " {'name': 'GTEx Tissue Specificity Index - Female', 'value': 0.888802}]"
      ]
     },
     "execution_count": 27,
     "metadata": {},
     "output_type": "execute_result"
    }
   ],
   "source": [
    "res[\"ENSG00000130203\"][\"Pharos\"][\"tissueSpecificity\"]"
   ]
  },
  {
   "cell_type": "code",
   "execution_count": 28,
   "id": "3bc227d3",
   "metadata": {},
   "outputs": [
    {
     "data": {
      "text/plain": [
       "[{'gwasid': 27372,\n",
       "  'pvalue': 0,\n",
       "  'snps': [{'name': 'missense_variant', 'value': 'rs429358'}],\n",
       "  'trait': 'Blood protein levels'},\n",
       " {'gwasid': 27381,\n",
       "  'pvalue': 0,\n",
       "  'snps': [{'name': 'missense_variant', 'value': 'rs429358'}],\n",
       "  'trait': 'Blood protein levels'},\n",
       " {'gwasid': 63526,\n",
       "  'pvalue': 0,\n",
       "  'snps': [{'name': 'missense_variant', 'value': 'rs7412'}],\n",
       "  'trait': 'Blood protein levels'},\n",
       " {'gwasid': 61680,\n",
       "  'pvalue': 3e-322,\n",
       "  'snps': [{'name': 'TF_binding_site_variant', 'value': 'rs769446'}],\n",
       "  'trait': 'Low density lipoprotein cholesterol levels'},\n",
       " {'gwasid': 95273,\n",
       "  'pvalue': 8e-315,\n",
       "  'snps': [{'name': 'missense_variant', 'value': 'rs7412'}],\n",
       "  'trait': 'Total cholesterol levels'},\n",
       " {'gwasid': 67615,\n",
       "  'pvalue': 1e-302,\n",
       "  'snps': [{'name': 'missense_variant', 'value': 'rs7412'}],\n",
       "  'trait': 'Blood protein levels'},\n",
       " {'gwasid': 70737,\n",
       "  'pvalue': 1e-300,\n",
       "  'snps': [{'name': 'missense_variant', 'value': 'rs7412'}],\n",
       "  'trait': 'Low density lipoprotein cholesterol levels'},\n",
       " {'gwasid': 70740,\n",
       "  'pvalue': 1e-300,\n",
       "  'snps': [{'name': 'missense_variant', 'value': 'rs7412'}],\n",
       "  'trait': 'Low density lipoprotein cholesterol levels'},\n",
       " {'gwasid': 108453,\n",
       "  'pvalue': 1e-300,\n",
       "  'snps': [{'name': 'missense_variant', 'value': 'rs7412'}],\n",
       "  'trait': 'Total cholesterol levels'},\n",
       " {'gwasid': 108456,\n",
       "  'pvalue': 1e-300,\n",
       "  'snps': [{'name': 'missense_variant', 'value': 'rs7412'}],\n",
       "  'trait': 'Total cholesterol levels'}]"
      ]
     },
     "execution_count": 28,
     "metadata": {},
     "output_type": "execute_result"
    }
   ],
   "source": [
    "res[\"ENSG00000130203\"][\"Pharos\"][\"gwas\"]"
   ]
  },
  {
   "cell_type": "markdown",
   "id": "4f7492cf",
   "metadata": {},
   "source": [
    "## Export Results"
   ]
  },
  {
   "cell_type": "code",
   "execution_count": 29,
   "id": "1098ddbb",
   "metadata": {},
   "outputs": [],
   "source": [
    "pipe.export()"
   ]
  }
 ],
 "metadata": {
  "kernelspec": {
   "display_name": "analysis-functions",
   "language": "python",
   "name": "python3"
  },
  "language_info": {
   "codemirror_mode": {
    "name": "ipython",
    "version": 3
   },
   "file_extension": ".py",
   "mimetype": "text/x-python",
   "name": "python",
   "nbconvert_exporter": "python",
   "pygments_lexer": "ipython3",
   "version": "3.12.0"
  }
 },
 "nbformat": 4,
 "nbformat_minor": 5
}
