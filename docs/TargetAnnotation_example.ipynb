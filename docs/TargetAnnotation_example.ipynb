{
 "cells": [
  {
   "cell_type": "markdown",
   "id": "9078af33",
   "metadata": {},
   "source": [
    "# Target Annotation Example"
   ]
  },
  {
   "cell_type": "code",
   "execution_count": 3,
   "id": "f73efca3-a726-459a-8789-88c41ed2203f",
   "metadata": {
    "tags": []
   },
   "outputs": [],
   "source": [
    "import pandas as pd\n",
    "import re\n",
    "from tqdm import tqdm\n",
    "import os\n",
    "\n",
    "from target_annotation import TargetAnnotation\n",
    "from target_annotation.utils.util import get_ensembl_from_uniprot"
   ]
  },
  {
   "cell_type": "markdown",
   "id": "62fce683-0713-4357-9bb4-c8e777210ca3",
   "metadata": {},
   "source": [
    "## Get list of targets"
   ]
  },
  {
   "cell_type": "code",
   "execution_count": 5,
   "id": "ebf920ad-dc3c-4890-a109-e14b4e93aebe",
   "metadata": {
    "tags": []
   },
   "outputs": [],
   "source": [
    "results_path = \"~/results\"\n",
    "\n",
    "targets = [\"P05067\", \"ENSG00000130203\"]  # uniprot id and an ensemble id for two targets\n",
    "\n",
    "targets = [\n",
    "    get_ensembl_from_uniprot(x) if not re.match(\"ENSG.*\", x) else x\n",
    "    for x in targets\n",
    "]"
   ]
  },
  {
   "cell_type": "markdown",
   "id": "5872d7c6-78a9-4ac1-a3dd-ab58c9385b08",
   "metadata": {},
   "source": [
    "## Create and Run the Workflow"
   ]
  },
  {
   "cell_type": "code",
   "execution_count": 7,
   "id": "c3ce25c7-a783-48f0-aa5f-4b6feac38c21",
   "metadata": {
    "tags": []
   },
   "outputs": [
    {
     "name": "stderr",
     "output_type": "stream",
     "text": [
      "reading A2A files for model: default: 100%|██████████| 604/604 [00:01<00:00, 519.04it/s]\n",
      "OT: target annotation...: 100%|██████████| 729/729 [01:10<00:00, 10.39it/s]\n",
      "OT: disease annotation...: 100%|██████████| 729/729 [01:04<00:00, 11.39it/s]\n",
      "Pharos: target annotation...: 100%|██████████| 729/729 [01:08<00:00, 10.70it/s]\n"
     ]
    }
   ],
   "source": [
    "pipe = TargetAnnotation(\n",
    "    targets=targets,\n",
    "    disease_code=\"MONDO_0004975\",\n",
    "    results_path = results_path\n",
    ")\n",
    "\n",
    "res = pipe.run()"
   ]
  },
  {
   "cell_type": "markdown",
   "id": "67b8622e-112b-4cad-acd2-d2539cce6745",
   "metadata": {},
   "source": [
    "## The flat simulations results with annotations and corrections"
   ]
  },
  {
   "cell_type": "code",
   "execution_count": 8,
   "id": "aa0125b4-4dd9-426e-8353-3afee820eb79",
   "metadata": {
    "tags": []
   },
   "outputs": [
    {
     "data": {
      "text/plain": [
       "dict_keys(['feature_type', 'ensg', 'all_to_all', 'OpenTargets', 'OpenTargets_disease_evidence', 'Pharos'])"
      ]
     },
     "execution_count": 8,
     "metadata": {},
     "output_type": "execute_result"
    }
   ],
   "source": [
    "res[\"TMT_P35237\"].keys()"
   ]
  },
  {
   "cell_type": "markdown",
   "id": "46a23909",
   "metadata": {},
   "source": [
    "### All To All field"
   ]
  },
  {
   "cell_type": "code",
   "execution_count": 26,
   "id": "18538b0a",
   "metadata": {},
   "outputs": [
    {
     "data": {
      "text/plain": [
       "{'tailProbabilities': 0.3984375,\n",
       " 'effectSize': 0.10979897030479194,\n",
       " 'cohensD': 0.01850407208919436,\n",
       " 'effectStd': 5.933773375694432,\n",
       " 'pathFrequency': 1.0}"
      ]
     },
     "execution_count": 26,
     "metadata": {},
     "output_type": "execute_result"
    }
   ],
   "source": [
    "res[\"TMT_P35237\"][\"all_to_all\"][\"default\"][\"out_mmse\"]"
   ]
  },
  {
   "cell_type": "markdown",
   "id": "efc52610-377a-412a-9ec0-5ed7b2bc5837",
   "metadata": {},
   "source": [
    "### Fields retrieved from OpenTargets for each target"
   ]
  },
  {
   "cell_type": "code",
   "execution_count": 9,
   "id": "535c474f-b553-4aba-afcd-174895c27ccc",
   "metadata": {
    "tags": []
   },
   "outputs": [
    {
     "data": {
      "text/plain": [
       "dict_keys(['id', 'approvedSymbol', 'biotype', 'proteinIds', 'geneOntology', 'targetClass', 'functionDescriptions', 'tractability', 'geneticConstraint', 'pathways', 'expressions', 'associatedDiseases', 'isEssential', 'depMapEssentiality', 'chemicalProbes', 'knownDrugs', 'safetyLiabilities'])"
      ]
     },
     "execution_count": 9,
     "metadata": {},
     "output_type": "execute_result"
    }
   ],
   "source": [
    "res[\"TMT_P35237\"][\"OpenTargets\"].keys()"
   ]
  },
  {
   "cell_type": "markdown",
   "id": "c627857f",
   "metadata": {},
   "source": [
    "### Examples of the OT fields"
   ]
  },
  {
   "cell_type": "code",
   "execution_count": 10,
   "id": "5dc1d8d7",
   "metadata": {},
   "outputs": [
    {
     "data": {
      "text/plain": [
       "['May be involved in the regulation of serine proteinases present in the brain or extravasated from the blood (By similarity). Inhibitor of cathepsin G, kallikrein-8 and thrombin. May play an important role in the inner ear in the protection against leakage of lysosomal content during stress and loss of this protection results in cell death and sensorineural hearing loss. {ECO:0000250, ECO:0000269|PubMed:10068683, ECO:0000269|PubMed:17761692, ECO:0000269|PubMed:20451170, ECO:0000269|PubMed:8136380, ECO:0000269|PubMed:8415716}.']"
      ]
     },
     "execution_count": 10,
     "metadata": {},
     "output_type": "execute_result"
    }
   ],
   "source": [
    "res[\"TMT_P35237\"][\"OpenTargets\"][\"functionDescriptions\"]"
   ]
  },
  {
   "cell_type": "code",
   "execution_count": 11,
   "id": "2fbb7a38",
   "metadata": {},
   "outputs": [
    {
     "data": {
      "text/plain": [
       "[{'id': 'GO:0002020', 'name': 'protease binding'},\n",
       " {'id': 'GO:0062023', 'name': 'collagen-containing extracellular matrix'},\n",
       " {'id': 'GO:0005737', 'name': 'cytoplasm'},\n",
       " {'id': 'GO:0005829', 'name': 'cytosol'},\n",
       " {'id': 'GO:0005886', 'name': 'plasma membrane'},\n",
       " {'id': 'GO:0101003', 'name': 'ficolin-1-rich granule membrane'},\n",
       " {'id': 'GO:0071470', 'name': 'cellular response to osmotic stress'},\n",
       " {'id': 'GO:0005886', 'name': 'plasma membrane'},\n",
       " {'id': 'GO:0070062', 'name': 'extracellular exosome'},\n",
       " {'id': 'GO:0030667', 'name': 'secretory granule membrane'},\n",
       " {'id': 'GO:0005576', 'name': 'extracellular region'},\n",
       " {'id': 'GO:0005634', 'name': 'nucleus'},\n",
       " {'id': 'GO:0005737', 'name': 'cytoplasm'},\n",
       " {'id': 'GO:0005886', 'name': 'plasma membrane'},\n",
       " {'id': 'GO:0004867', 'name': 'serine-type endopeptidase inhibitor activity'},\n",
       " {'id': 'GO:0005737', 'name': 'cytoplasm'},\n",
       " {'id': 'GO:0005737', 'name': 'cytoplasm'},\n",
       " {'id': 'GO:0002020', 'name': 'protease binding'},\n",
       " {'id': 'GO:0005615', 'name': 'extracellular space'},\n",
       " {'id': 'GO:0004867', 'name': 'serine-type endopeptidase inhibitor activity'},\n",
       " {'id': 'GO:0070821', 'name': 'tertiary granule membrane'},\n",
       " {'id': 'GO:0010951', 'name': 'negative regulation of endopeptidase activity'},\n",
       " {'id': 'GO:0062023', 'name': 'collagen-containing extracellular matrix'},\n",
       " {'id': 'GO:0097180', 'name': 'serine protease inhibitor complex'},\n",
       " {'id': 'GO:0070062', 'name': 'extracellular exosome'},\n",
       " {'id': 'GO:0007605', 'name': 'sensory perception of sound'}]"
      ]
     },
     "execution_count": 11,
     "metadata": {},
     "output_type": "execute_result"
    }
   ],
   "source": [
    "[x[\"term\"] for x in res[\"TMT_P35237\"][\"OpenTargets\"][\"geneOntology\"]]"
   ]
  },
  {
   "cell_type": "code",
   "execution_count": 12,
   "id": "fd2c49dd",
   "metadata": {},
   "outputs": [
    {
     "data": {
      "text/plain": [
       "[{'pathway': 'Neutrophil degranulation', 'topLevelTerm': 'Immune System'},\n",
       " {'pathway': 'Dissolution of Fibrin Clot', 'topLevelTerm': 'Hemostasis'}]"
      ]
     },
     "execution_count": 12,
     "metadata": {},
     "output_type": "execute_result"
    }
   ],
   "source": [
    "res[\"TMT_P35237\"][\"OpenTargets\"][\"pathways\"]"
   ]
  },
  {
   "cell_type": "markdown",
   "id": "a0c052b5-d524-41e4-9f98-0f7f456885ce",
   "metadata": {},
   "source": [
    "### Here we show a single evidence for TMT_P35237 and MONDO_0004975"
   ]
  },
  {
   "cell_type": "code",
   "execution_count": 13,
   "id": "f84f05f0-4fb6-4463-b78f-b8d1b714fddd",
   "metadata": {
    "tags": []
   },
   "outputs": [
    {
     "data": {
      "text/plain": [
       "{'disease': {'id': 'MONDO_0004975', 'name': 'Alzheimer disease'},\n",
       " 'target': {'id': 'ENSG00000124570', 'approvedSymbol': 'SERPINB6'},\n",
       " 'diseaseFromSource': None,\n",
       " 'literature': ['35416570'],\n",
       " 'publicationYear': 2022,\n",
       " 'datasourceId': 'europepmc',\n",
       " 'datatypeId': 'literature',\n",
       " 'score': 0.09,\n",
       " 'resourceScore': 9,\n",
       " 'textMiningSentences': [{'section': 'concl',\n",
       "   'text': 'Concerning humans, SERPINA3, SERPINB1, SERPINB6, SERPING1, SERPINH1, and SERPINI1 were dysregulated in sCJD patients, whereas only SERPINA3 and SERPINB1 members were differentially expressed in patients at early stages of AD–related pathology.'},\n",
       "  {'section': 'abstract',\n",
       "   'text': 'Our analysis revealed that, besides the already observed upregulation of SERPINA3 in patients with prion disease and AD, SERPINB1, SERPINB6, SERPING1, SERPINH1, and SERPINI1 were dysregulated in sCJD individuals compared to controls, while only SERPINB1 was upregulated in AD patients.'},\n",
       "  {'section': 'results',\n",
       "   'text': 'SERPINB6, SERPING1, and SERPINH1 exhibited a significant upregulation in sCJD group (average FC = 3; average FC = 3.2; average FC = 6), whereas no differential expression was observed in AD group compared to controls.'}],\n",
       " 'significantDriverMethods': None,\n",
       " 'cohortId': None,\n",
       " 'cohortShortName': None,\n",
       " 'cohortDescription': None,\n",
       " 'mutatedSamples': None}"
      ]
     },
     "execution_count": 13,
     "metadata": {},
     "output_type": "execute_result"
    }
   ],
   "source": [
    "res[\"TMT_P35237\"][\"OpenTargets_disease_evidence\"][\"evidences\"][\"rows\"][0]"
   ]
  },
  {
   "cell_type": "markdown",
   "id": "6a5d4c1a",
   "metadata": {},
   "source": [
    "### Fields retrieved from Pharos for each target"
   ]
  },
  {
   "cell_type": "code",
   "execution_count": 14,
   "id": "ed9ada9d",
   "metadata": {},
   "outputs": [
    {
     "data": {
      "text/plain": [
       "dict_keys(['name', 'preferredSymbol', 'tdl', 'fam', 'sym', 'description', 'novelty', 'pantherClasses', 'dto', 'gwas', 'gwasAnalytics', 'pathways', 'diseaseCounts', 'diseases', 'tissueSpecificity', 'gtex', 'ppis', 'tinx'])"
      ]
     },
     "execution_count": 14,
     "metadata": {},
     "output_type": "execute_result"
    }
   ],
   "source": [
    "res[\"TMT_P35237\"][\"Pharos\"].keys()"
   ]
  },
  {
   "cell_type": "markdown",
   "id": "b03cee65",
   "metadata": {},
   "source": [
    "### Examples of Pharos fields"
   ]
  },
  {
   "cell_type": "code",
   "execution_count": 15,
   "id": "d9134d47",
   "metadata": {},
   "outputs": [
    {
     "data": {
      "text/plain": [
       "'Tbio'"
      ]
     },
     "execution_count": 15,
     "metadata": {},
     "output_type": "execute_result"
    }
   ],
   "source": [
    "res[\"TMT_P35237\"][\"Pharos\"][\"tdl\"]"
   ]
  },
  {
   "cell_type": "code",
   "execution_count": 16,
   "id": "87634d60",
   "metadata": {},
   "outputs": [
    {
     "data": {
      "text/plain": [
       "'Serpin B6'"
      ]
     },
     "execution_count": 16,
     "metadata": {},
     "output_type": "execute_result"
    }
   ],
   "source": [
    "res[\"TMT_P35237\"][\"Pharos\"][\"name\"]"
   ]
  },
  {
   "cell_type": "code",
   "execution_count": 17,
   "id": "7217e424",
   "metadata": {},
   "outputs": [
    {
     "data": {
      "text/plain": [
       "[{'name': 'serine protease inhibitor', 'pcid': 'PC00204'},\n",
       " {'name': 'protease inhibitor', 'pcid': 'PC00191'},\n",
       " {'name': 'enzyme modulator', 'pcid': 'PC00095'}]"
      ]
     },
     "execution_count": 17,
     "metadata": {},
     "output_type": "execute_result"
    }
   ],
   "source": [
    "res[\"TMT_P35237\"][\"Pharos\"][\"pantherClasses\"]"
   ]
  },
  {
   "cell_type": "code",
   "execution_count": 18,
   "id": "8748aae9",
   "metadata": {},
   "outputs": [
    {
     "data": {
      "text/plain": [
       "[{'name': 'Serpin B6', 'dtoid': 'DTO:05002706'},\n",
       " {'name': 'Serine protease inhibitor', 'dtoid': 'DTO:05007588'},\n",
       " {'name': 'Protease inhibitor', 'dtoid': 'DTO:05007587'},\n",
       " {'name': 'Enzyme modulator', 'dtoid': 'DTO:05007584'},\n",
       " {'name': 'protein', 'dtoid': 'PR:000000001'}]"
      ]
     },
     "execution_count": 18,
     "metadata": {},
     "output_type": "execute_result"
    }
   ],
   "source": [
    "res[\"TMT_P35237\"][\"Pharos\"][\"dto\"]"
   ]
  },
  {
   "cell_type": "code",
   "execution_count": 19,
   "id": "0d28e8e4",
   "metadata": {},
   "outputs": [
    {
     "data": {
      "text/plain": [
       "'The protein encoded by this gene is a member of the serpin (serine proteinase inhibitor) superfamily, and ovalbumin(ov)-serpin subfamily. It was originally discovered as a placental thrombin inhibitor. The mouse homolog was found to be expressed in the hair cells of the inner ear. Mutations in this gene are associated with nonsyndromic progressive hearing loss, suggesting that this serpin plays an important role in the inner ear in the protection against leakage of lysosomal content during stress, and that loss of this protection results in cell death and sensorineural hearing loss. Alternatively spliced transcript variants have been found for this gene. [provided by RefSeq, Sep 2010]'"
      ]
     },
     "execution_count": 19,
     "metadata": {},
     "output_type": "execute_result"
    }
   ],
   "source": [
    "res[\"TMT_P35237\"][\"Pharos\"][\"description\"]"
   ]
  },
  {
   "cell_type": "code",
   "execution_count": 20,
   "id": "d140449a",
   "metadata": {},
   "outputs": [
    {
     "data": {
      "text/plain": [
       "[{'name': 'Amoebiasis',\n",
       "  'pwid': 14348,\n",
       "  'targetCounts': [{'name': 'Tbio', 'value': 67},\n",
       "   {'name': 'Tchem', 'value': 24},\n",
       "   {'name': 'Tclin', 'value': 12},\n",
       "   {'name': 'Tdark', 'value': 1}],\n",
       "  'type': 'KEGG'},\n",
       " {'name': 'Dissolution of Fibrin Clot',\n",
       "  'pwid': 82996,\n",
       "  'targetCounts': [{'name': 'Tbio', 'value': 8},\n",
       "   {'name': 'Tchem', 'value': 3},\n",
       "   {'name': 'Tclin', 'value': 2}],\n",
       "  'type': 'Reactome'},\n",
       " {'name': 'Hemostasis',\n",
       "  'pwid': 99548,\n",
       "  'targetCounts': [{'name': 'Tbio', 'value': 391},\n",
       "   {'name': 'Tchem', 'value': 134},\n",
       "   {'name': 'Tdark', 'value': 82},\n",
       "   {'name': 'Tclin', 'value': 59}],\n",
       "  'type': 'Reactome'},\n",
       " {'name': 'Immune System',\n",
       "  'pwid': 102587,\n",
       "  'targetCounts': [{'name': 'Tbio', 'value': 1485},\n",
       "   {'name': 'Tchem', 'value': 384},\n",
       "   {'name': 'Tdark', 'value': 213},\n",
       "   {'name': 'Tclin', 'value': 164}],\n",
       "  'type': 'Reactome'},\n",
       " {'name': 'Innate Immune System',\n",
       "  'pwid': 105438,\n",
       "  'targetCounts': [{'name': 'Tbio', 'value': 703},\n",
       "   {'name': 'Tchem', 'value': 253},\n",
       "   {'name': 'Tdark', 'value': 160},\n",
       "   {'name': 'Tclin', 'value': 72}],\n",
       "  'type': 'Reactome'},\n",
       " {'name': 'Neutrophil degranulation',\n",
       "  'pwid': 125204,\n",
       "  'targetCounts': [{'name': 'Tbio', 'value': 334},\n",
       "   {'name': 'Tchem', 'value': 117},\n",
       "   {'name': 'Tdark', 'value': 61},\n",
       "   {'name': 'Tclin', 'value': 31}],\n",
       "  'type': 'Reactome'},\n",
       " {'name': 'Ectoderm Differentiation',\n",
       "  'pwid': 210385,\n",
       "  'targetCounts': [{'name': 'Tbio', 'value': 255},\n",
       "   {'name': 'Tchem', 'value': 59},\n",
       "   {'name': 'Tdark', 'value': 20},\n",
       "   {'name': 'Tclin', 'value': 16}],\n",
       "  'type': 'WikiPathways'}]"
      ]
     },
     "execution_count": 20,
     "metadata": {},
     "output_type": "execute_result"
    }
   ],
   "source": [
    "res[\"TMT_P35237\"][\"Pharos\"][\"pathways\"]"
   ]
  },
  {
   "cell_type": "code",
   "execution_count": 21,
   "id": "a6e8b7d0",
   "metadata": {},
   "outputs": [
    {
     "data": {
      "text/plain": [
       "[{'nid': 2976643,\n",
       "  'props': [{'name': 'tdl', 'value': 'Tbio'},\n",
       "   {'name': 'Novelty', 'value': '0.03308357'},\n",
       "   {'name': 'p_int', 'value': '0.999999888'},\n",
       "   {'name': 'p_ni', 'value': '1.6e-8'},\n",
       "   {'name': 'p_wrong', 'value': '9.6e-8'},\n",
       "   {'name': 'Score', 'value': '0.346'},\n",
       "   {'name': 'Data Source', 'value': 'BioPlex,STRINGDB'}],\n",
       "  'type': 'BioPlex,STRINGDB',\n",
       "  'target': {'preferredSymbol': 'SERPINB8'}},\n",
       " {'nid': 2976630,\n",
       "  'props': [{'name': 'tdl', 'value': 'Tclin'},\n",
       "   {'name': 'Novelty', 'value': '0.00017503'},\n",
       "   {'name': 'fam', 'value': 'Enzyme'},\n",
       "   {'name': 'p_int', 'value': '0.838717049'},\n",
       "   {'name': 'p_ni', 'value': '0.161279445'},\n",
       "   {'name': 'p_wrong', 'value': '0.000003507'},\n",
       "   {'name': 'Score', 'value': '0.436'},\n",
       "   {'name': 'Data Source', 'value': 'BioPlex,STRINGDB'}],\n",
       "  'type': 'BioPlex,STRINGDB',\n",
       "  'target': {'preferredSymbol': 'PLAT'}},\n",
       " {'nid': 2976830,\n",
       "  'props': [{'name': 'tdl', 'value': 'Tchem'},\n",
       "   {'name': 'Novelty', 'value': '0.0005322'},\n",
       "   {'name': 'fam', 'value': 'Enzyme'},\n",
       "   {'name': 'Score', 'value': '0.942'},\n",
       "   {'name': 'Data Source', 'value': 'STRINGDB'}],\n",
       "  'type': 'STRINGDB',\n",
       "  'target': {'preferredSymbol': 'PLAU'}},\n",
       " {'nid': 2976622,\n",
       "  'props': [{'name': 'tdl', 'value': 'Tbio'},\n",
       "   {'name': 'Novelty', 'value': '0.00040471'},\n",
       "   {'name': 'Score', 'value': '0.932'},\n",
       "   {'name': 'Data Source', 'value': 'STRINGDB'}],\n",
       "  'type': 'STRINGDB',\n",
       "  'target': {'preferredSymbol': 'ITGAX'}},\n",
       " {'nid': 2976617,\n",
       "  'props': [{'name': 'tdl', 'value': 'Tbio'},\n",
       "   {'name': 'Novelty', 'value': '0.00017521'},\n",
       "   {'name': 'Score', 'value': '0.924'},\n",
       "   {'name': 'Data Source', 'value': 'STRINGDB'}],\n",
       "  'type': 'STRINGDB',\n",
       "  'target': {'preferredSymbol': 'ITGAM'}},\n",
       " {'nid': 2976785,\n",
       "  'props': [{'name': 'tdl', 'value': 'Tclin'},\n",
       "   {'name': 'Novelty', 'value': '0.00045865'},\n",
       "   {'name': 'fam', 'value': 'Enzyme'},\n",
       "   {'name': 'Score', 'value': '0.916'},\n",
       "   {'name': 'Data Source', 'value': 'STRINGDB'}],\n",
       "  'type': 'STRINGDB',\n",
       "  'target': {'preferredSymbol': 'MGAM'}},\n",
       " {'nid': 2976779,\n",
       "  'props': [{'name': 'tdl', 'value': 'Tbio'},\n",
       "   {'name': 'Novelty', 'value': '0.050644'},\n",
       "   {'name': 'Score', 'value': '0.915'},\n",
       "   {'name': 'Data Source', 'value': 'STRINGDB'}],\n",
       "  'type': 'STRINGDB',\n",
       "  'target': {'preferredSymbol': 'LAMTOR3'}},\n",
       " {'nid': 2976907,\n",
       "  'props': [{'name': 'tdl', 'value': 'Tchem'},\n",
       "   {'name': 'Novelty', 'value': '0.00755426'},\n",
       "   {'name': 'fam', 'value': 'GPCR'},\n",
       "   {'name': 'Score', 'value': '0.912'},\n",
       "   {'name': 'Data Source', 'value': 'STRINGDB'}],\n",
       "  'type': 'STRINGDB',\n",
       "  'target': {'preferredSymbol': 'PTAFR'}},\n",
       " {'nid': 2976793,\n",
       "  'props': [{'name': 'tdl', 'value': 'Tbio'},\n",
       "   {'name': 'Novelty', 'value': '0.00121416'},\n",
       "   {'name': 'fam', 'value': 'Transporter'},\n",
       "   {'name': 'Score', 'value': '0.911'},\n",
       "   {'name': 'Data Source', 'value': 'STRINGDB'}],\n",
       "  'type': 'STRINGDB',\n",
       "  'target': {'preferredSymbol': 'SLC11A1'}},\n",
       " {'nid': 2976784,\n",
       "  'props': [{'name': 'tdl', 'value': 'Tbio'},\n",
       "   {'name': 'Novelty', 'value': '0.05210182'},\n",
       "   {'name': 'Score', 'value': '0.911'},\n",
       "   {'name': 'Data Source', 'value': 'STRINGDB'}],\n",
       "  'type': 'STRINGDB',\n",
       "  'target': {'preferredSymbol': 'LAMTOR2'}}]"
      ]
     },
     "execution_count": 21,
     "metadata": {},
     "output_type": "execute_result"
    }
   ],
   "source": [
    "res[\"TMT_P35237\"][\"Pharos\"][\"ppis\"]"
   ]
  },
  {
   "cell_type": "code",
   "execution_count": 22,
   "id": "1569777c",
   "metadata": {},
   "outputs": [
    {
     "data": {
      "text/plain": [
       "[{'name': 'HPA Protein Tissue Specificity Index', 'value': 0.385621},\n",
       " {'name': 'HPA RNA Tissue Specificity Index', 'value': 0.640257},\n",
       " {'name': 'HPM Protein Tissue Specificity Index', 'value': 0.553754},\n",
       " {'name': 'GTEx Tissue Specificity Index', 'value': 0.62912},\n",
       " {'name': 'GTEx Tissue Specificity Index - Male', 'value': 0.651631},\n",
       " {'name': 'GTEx Tissue Specificity Index - Female', 'value': 0.525407}]"
      ]
     },
     "execution_count": 22,
     "metadata": {},
     "output_type": "execute_result"
    }
   ],
   "source": [
    "res[\"TMT_P35237\"][\"Pharos\"][\"tissueSpecificity\"]"
   ]
  },
  {
   "cell_type": "code",
   "execution_count": 23,
   "id": "3bc227d3",
   "metadata": {},
   "outputs": [
    {
     "data": {
      "text/plain": [
       "[{'gwasid': 96334,\n",
       "  'pvalue': 2e-08,\n",
       "  'snps': [{'name': '5_prime_UTR_variant', 'value': 'rs73718779'}],\n",
       "  'trait': 'Chronic lymphocytic leukemia'}]"
      ]
     },
     "execution_count": 23,
     "metadata": {},
     "output_type": "execute_result"
    }
   ],
   "source": [
    "res[\"TMT_P35237\"][\"Pharos\"][\"gwas\"]"
   ]
  },
  {
   "cell_type": "markdown",
   "id": "4f7492cf",
   "metadata": {},
   "source": [
    "## Export Results"
   ]
  },
  {
   "cell_type": "code",
   "execution_count": 24,
   "id": "1098ddbb",
   "metadata": {},
   "outputs": [],
   "source": [
    "pipe.export()"
   ]
  }
 ],
 "metadata": {
  "kernelspec": {
   "display_name": "analysis-functions",
   "language": "python",
   "name": "python3"
  },
  "language_info": {
   "codemirror_mode": {
    "name": "ipython",
    "version": 3
   },
   "file_extension": ".py",
   "mimetype": "text/x-python",
   "name": "python",
   "nbconvert_exporter": "python",
   "pygments_lexer": "ipython3",
   "version": "3.12.0"
  }
 },
 "nbformat": 4,
 "nbformat_minor": 5
}
